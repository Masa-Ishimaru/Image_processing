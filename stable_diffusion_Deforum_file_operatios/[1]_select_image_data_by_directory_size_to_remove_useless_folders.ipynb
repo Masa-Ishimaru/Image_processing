{
 "cells": [
  {
   "cell_type": "markdown",
   "id": "7854a0b5",
   "metadata": {},
   "source": [
    "## choose image folders by its size to remove useless ones"
   ]
  },
  {
   "cell_type": "code",
   "execution_count": 1,
   "id": "9fb869bc",
   "metadata": {},
   "outputs": [],
   "source": [
    "import os\n",
    "import pandas as pd\n",
    "import numpy as np\n",
    "import shutil\n",
    "\n",
    "%matplotlib inline"
   ]
  },
  {
   "cell_type": "markdown",
   "id": "83247b21",
   "metadata": {},
   "source": [
    "## put image folders to scan"
   ]
  },
  {
   "cell_type": "code",
   "execution_count": 5,
   "id": "bc37c0a2",
   "metadata": {},
   "outputs": [
    {
     "name": "stdout",
     "output_type": "stream",
     "text": [
      "['Deforum_20240317053601', 'Deforum_20240317053914', 'Deforum_20240317053945', 'Deforum_20240317054228', 'Deforum_20240317054552', 'Deforum_20240317054936', 'Deforum_20240317055241', 'Deforum_20240317055310', 'Deforum_20240317060100', 'Deforum_20240317060123', 'Deforum_20240317060140', 'Deforum_20240317060425', 'Deforum_20240317060443', 'Deforum_20240317061101', 'Deforum_20240317061749', 'Deforum_20240317061802', 'Deforum_20240317061841', 'Deforum_20240317062022', 'Deforum_20240317062048', 'Deforum_20240317062120', 'Deforum_20240317062208', 'Deforum_20240317062221', 'Deforum_20240317063129', 'Deforum_20240317063202', 'Deforum_20240317063219', 'Deforum_20240317063503', 'Deforum_20240317063708', 'Deforum_20240317063728', 'Deforum_20240317063755', 'Deforum_20240317063815', 'Deforum_20240317063903', 'Deforum_20240317063917', 'Deforum_20240317064216', 'Deforum_20240317064235', 'Deforum_20240317064257', 'Deforum_20240317064318', 'Deforum_20240317064341', 'Deforum_20240317064944', 'Deforum_20240317065000', 'Deforum_20240317065017', 'Deforum_20240317065358', 'Deforum_20240317065643', 'Deforum_20240317065930', 'Deforum_20240317070159', 'Deforum_20240317070456', 'Deforum_20240317070912', 'Deforum_20240317072207', 'Deforum_20240317072225', 'Deforum_20240317073207', 'Deforum_20240317073225', 'Deforum_20240317073237', 'Deforum_20240317073520']\n",
      "\n",
      "number of sub directries =   52\n"
     ]
    }
   ],
   "source": [
    "# make list of sub-folders\n",
    "\n",
    "i = 0\n",
    "\n",
    "current_dir = []\n",
    "sub_dirs    = []\n",
    "file_names  = []\n",
    "\n",
    "for curDir, dirs, files in os.walk(\"image_folders_to_scan\"):\n",
    "    current_dir.append(curDir)\n",
    "    sub_dirs.append(dirs)\n",
    "    file_names.append(files)\n",
    "\n",
    "sub_dir_names = sub_dirs[0]\n",
    "    \n",
    "#print(current_dir)\n",
    "print(sub_dir_names)\n",
    "print(file_names)\n",
    "\n",
    "print('\\nnumber of sub directries =  ', len(sub_dir_names))"
   ]
  },
  {
   "cell_type": "code",
   "execution_count": 6,
   "id": "1e96ae04",
   "metadata": {},
   "outputs": [],
   "source": [
    "# function to scan directory size\n",
    "\n",
    "def get_dir_size(path='.'):\n",
    "    total = 0\n",
    "    with os.scandir(path) as it:\n",
    "        for entry in it:\n",
    "            if entry.is_file():\n",
    "                total += entry.stat().st_size\n",
    "            elif entry.is_dir():\n",
    "                total += get_dir_size(entry.path)\n",
    "    return total"
   ]
  },
  {
   "cell_type": "code",
   "execution_count": 7,
   "id": "84db6a45",
   "metadata": {},
   "outputs": [
    {
     "name": "stdout",
     "output_type": "stream",
     "text": [
      "(52, 2)\n"
     ]
    },
    {
     "data": {
      "text/html": [
       "<div>\n",
       "<style scoped>\n",
       "    .dataframe tbody tr th:only-of-type {\n",
       "        vertical-align: middle;\n",
       "    }\n",
       "\n",
       "    .dataframe tbody tr th {\n",
       "        vertical-align: top;\n",
       "    }\n",
       "\n",
       "    .dataframe thead th {\n",
       "        text-align: right;\n",
       "    }\n",
       "</style>\n",
       "<table border=\"1\" class=\"dataframe\">\n",
       "  <thead>\n",
       "    <tr style=\"text-align: right;\">\n",
       "      <th></th>\n",
       "      <th>folder_name</th>\n",
       "      <th>folder_size_MB</th>\n",
       "    </tr>\n",
       "  </thead>\n",
       "  <tbody>\n",
       "    <tr>\n",
       "      <th>0</th>\n",
       "      <td>image_folders_to_scan/Deforum_20240317053601</td>\n",
       "      <td>89.439613</td>\n",
       "    </tr>\n",
       "    <tr>\n",
       "      <th>1</th>\n",
       "      <td>image_folders_to_scan/Deforum_20240317053914</td>\n",
       "      <td>12.682358</td>\n",
       "    </tr>\n",
       "    <tr>\n",
       "      <th>2</th>\n",
       "      <td>image_folders_to_scan/Deforum_20240317053945</td>\n",
       "      <td>86.645243</td>\n",
       "    </tr>\n",
       "    <tr>\n",
       "      <th>3</th>\n",
       "      <td>image_folders_to_scan/Deforum_20240317054228</td>\n",
       "      <td>88.046431</td>\n",
       "    </tr>\n",
       "    <tr>\n",
       "      <th>4</th>\n",
       "      <td>image_folders_to_scan/Deforum_20240317054552</td>\n",
       "      <td>84.360310</td>\n",
       "    </tr>\n",
       "  </tbody>\n",
       "</table>\n",
       "</div>"
      ],
      "text/plain": [
       "                                    folder_name  folder_size_MB\n",
       "0  image_folders_to_scan/Deforum_20240317053601       89.439613\n",
       "1  image_folders_to_scan/Deforum_20240317053914       12.682358\n",
       "2  image_folders_to_scan/Deforum_20240317053945       86.645243\n",
       "3  image_folders_to_scan/Deforum_20240317054228       88.046431\n",
       "4  image_folders_to_scan/Deforum_20240317054552       84.360310"
      ]
     },
     "execution_count": 7,
     "metadata": {},
     "output_type": "execute_result"
    }
   ],
   "source": [
    "# make table of sub-directry name and size\n",
    "\n",
    "df_sub_dir_name_size = pd.DataFrame()\n",
    "\n",
    "for i in range(len(sub_dir_names)):\n",
    "    dir_path = 'image_folders_to_scan/' + sub_dir_names[i]\n",
    "    df_sub_dir_name_size.loc[i, 'folder_name'] = dir_path\n",
    "    df_sub_dir_name_size.loc[i, 'folder_size_MB'] = get_dir_size(dir_path) / 1000000\n",
    "\n",
    "print(df_sub_dir_name_size.shape)\n",
    "df_sub_dir_name_size.head()"
   ]
  },
  {
   "cell_type": "code",
   "execution_count": 8,
   "id": "31557b58",
   "metadata": {},
   "outputs": [
    {
     "data": {
      "image/png": "[encoded data removed]",
      "text/plain": [
       "<Figure size 1000x200 with 1 Axes>"
      ]
     },
     "metadata": {},
     "output_type": "display_data"
    }
   ],
   "source": [
    "# histgram of folder size\n",
    "\n",
    "plt.figure(figsize = (10, 2))\n",
    "plt.hist(df_sub_dir_name_size['folder_size_MB'], alpha = 0.5)\n",
    "x_axis_num = np.arange(0, 100, step = 5)\n",
    "plt.xticks(x_axis_num)\n",
    "plt.grid(axis = 'x', linestyle='dotted')\n",
    "\n",
    "plt.show()"
   ]
  },
  {
   "cell_type": "code",
   "execution_count": 9,
   "id": "7e709ec1",
   "metadata": {},
   "outputs": [],
   "source": [
    "# threshold to USE and NOT USE\n",
    "\n",
    "threshold = 80.0"
   ]
  },
  {
   "cell_type": "code",
   "execution_count": 10,
   "id": "f2f6a347",
   "metadata": {},
   "outputs": [
    {
     "name": "stdout",
     "output_type": "stream",
     "text": [
      "30\n"
     ]
    },
    {
     "data": {
      "text/html": [
       "<div>\n",
       "<style scoped>\n",
       "    .dataframe tbody tr th:only-of-type {\n",
       "        vertical-align: middle;\n",
       "    }\n",
       "\n",
       "    .dataframe tbody tr th {\n",
       "        vertical-align: top;\n",
       "    }\n",
       "\n",
       "    .dataframe thead th {\n",
       "        text-align: right;\n",
       "    }\n",
       "</style>\n",
       "<table border=\"1\" class=\"dataframe\">\n",
       "  <thead>\n",
       "    <tr style=\"text-align: right;\">\n",
       "      <th></th>\n",
       "      <th>folder_name</th>\n",
       "      <th>folder_size_MB</th>\n",
       "    </tr>\n",
       "  </thead>\n",
       "  <tbody>\n",
       "    <tr>\n",
       "      <th>1</th>\n",
       "      <td>image_folders_to_scan/Deforum_20240317053914</td>\n",
       "      <td>12.682358</td>\n",
       "    </tr>\n",
       "    <tr>\n",
       "      <th>6</th>\n",
       "      <td>image_folders_to_scan/Deforum_20240317055241</td>\n",
       "      <td>8.462068</td>\n",
       "    </tr>\n",
       "    <tr>\n",
       "      <th>8</th>\n",
       "      <td>image_folders_to_scan/Deforum_20240317060100</td>\n",
       "      <td>4.027930</td>\n",
       "    </tr>\n",
       "    <tr>\n",
       "      <th>9</th>\n",
       "      <td>image_folders_to_scan/Deforum_20240317060123</td>\n",
       "      <td>4.924376</td>\n",
       "    </tr>\n",
       "    <tr>\n",
       "      <th>11</th>\n",
       "      <td>image_folders_to_scan/Deforum_20240317060425</td>\n",
       "      <td>2.504386</td>\n",
       "    </tr>\n",
       "  </tbody>\n",
       "</table>\n",
       "</div>"
      ],
      "text/plain": [
       "                                     folder_name  folder_size_MB\n",
       "1   image_folders_to_scan/Deforum_20240317053914       12.682358\n",
       "6   image_folders_to_scan/Deforum_20240317055241        8.462068\n",
       "8   image_folders_to_scan/Deforum_20240317060100        4.027930\n",
       "9   image_folders_to_scan/Deforum_20240317060123        4.924376\n",
       "11  image_folders_to_scan/Deforum_20240317060425        2.504386"
      ]
     },
     "execution_count": 10,
     "metadata": {},
     "output_type": "execute_result"
    }
   ],
   "source": [
    "df_folders_not_use = df_sub_dir_name_size[df_sub_dir_name_size['folder_size_MB'] < threshold]\n",
    "print(len(df_folders_not_use))\n",
    "df_folders_not_use.head()"
   ]
  },
  {
   "cell_type": "code",
   "execution_count": 11,
   "id": "0d13a150",
   "metadata": {},
   "outputs": [
    {
     "name": "stdout",
     "output_type": "stream",
     "text": [
      "30\n"
     ]
    },
    {
     "data": {
      "text/plain": [
       "['image_folders_to_scan/Deforum_20240317053914',\n",
       " 'image_folders_to_scan/Deforum_20240317055241',\n",
       " 'image_folders_to_scan/Deforum_20240317060100',\n",
       " 'image_folders_to_scan/Deforum_20240317060123',\n",
       " 'image_folders_to_scan/Deforum_20240317060425']"
      ]
     },
     "execution_count": 11,
     "metadata": {},
     "output_type": "execute_result"
    }
   ],
   "source": [
    "folders_not_use = list(df_folders_not_use['folder_name'])\n",
    "print(len(folders_not_use))\n",
    "folders_not_use[:5]"
   ]
  },
  {
   "cell_type": "markdown",
   "id": "fcde2bc4",
   "metadata": {},
   "source": [
    "## move no use directries"
   ]
  },
  {
   "cell_type": "code",
   "execution_count": 12,
   "id": "e2d6e780",
   "metadata": {},
   "outputs": [],
   "source": [
    "def move_dirs(current_path, new_path):\n",
    "    new_path = shutil.move(current_path, new_path)"
   ]
  },
  {
   "cell_type": "code",
   "execution_count": 13,
   "id": "b61e3465",
   "metadata": {},
   "outputs": [],
   "source": [
    "new_path = 'image_folders_not_use'\n",
    "for current_path in folders_not_use:\n",
    "    move_dirs(current_path, new_path)"
   ]
  },
  {
   "cell_type": "code",
   "execution_count": null,
   "id": "8a862f6a",
   "metadata": {},
   "outputs": [],
   "source": []
  },
  {
   "cell_type": "code",
   "execution_count": null,
   "id": "36f57098",
   "metadata": {},
   "outputs": [],
   "source": []
  },
  {
   "cell_type": "markdown",
   "id": "9243f4f5",
   "metadata": {},
   "source": [
    " ## delete no use folders"
   ]
  },
  {
   "cell_type": "code",
   "execution_count": 14,
   "id": "0339af06",
   "metadata": {},
   "outputs": [],
   "source": [
    "shutil.rmtree('image_folders_not_use')"
   ]
  },
  {
   "cell_type": "code",
   "execution_count": null,
   "id": "740a51f2",
   "metadata": {},
   "outputs": [],
   "source": []
  }
 ],
 "metadata": {
  "kernelspec": {
   "display_name": "Python 3 (ipykernel)",
   "language": "python",
   "name": "python3"
  },
  "language_info": {
   "codemirror_mode": {
    "name": "ipython",
    "version": 3
   },
   "file_extension": ".py",
   "mimetype": "text/x-python",
   "name": "python",
   "nbconvert_exporter": "python",
   "pygments_lexer": "ipython3",
   "version": "3.10.9"
  }
 },
 "nbformat": 4,
 "nbformat_minor": 5
}
