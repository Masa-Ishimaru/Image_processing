{
 "cells": [
  {
   "cell_type": "markdown",
   "id": "bf48eb93",
   "metadata": {},
   "source": [
    "## move hires files to 10 folders 188 images each"
   ]
  },
  {
   "cell_type": "code",
   "execution_count": null,
   "id": "9fb869bc",
   "metadata": {},
   "outputs": [],
   "source": [
    "import os\n",
    "import pandas as pd\n",
    "import numpy as np\n",
    "import matplotlib.pyplot as plt\n",
    "import shutil\n",
    "import cv2\n",
    "import glob\n",
    "\n",
    "%matplotlib inline"
   ]
  },
  {
   "cell_type": "code",
   "execution_count": null,
   "id": "363fc485",
   "metadata": {},
   "outputs": [],
   "source": [
    "# high resolution image path\n",
    "\n",
    "high_resolution_image_path = 'E:/batch_processing_folder/output'\n",
    "high_resolution_image_path"
   ]
  },
  {
   "cell_type": "code",
   "execution_count": null,
   "id": "0ffb04d4",
   "metadata": {},
   "outputs": [],
   "source": [
    "# foldes to deliver 118 images each\n",
    "\n",
    "mother_folder_path = 'mother_folder_of_delivered_images'\n",
    "mother_folder_path"
   ]
  },
  {
   "cell_type": "code",
   "execution_count": null,
   "id": "3edc89dc",
   "metadata": {},
   "outputs": [],
   "source": [
    "# determine sub directory number\n",
    "\n",
    "sub_folder_num = input('determine number of sub-folders in the image_data_folder :  ')\n",
    "sub_folder_num = int(sub_folder_num)\n",
    "sub_folder_num"
   ]
  },
  {
   "cell_type": "code",
   "execution_count": null,
   "id": "26358e3b",
   "metadata": {},
   "outputs": [],
   "source": [
    "sub_dir_name = input('input sub directory name :  ')\n",
    "sub_dir_name"
   ]
  },
  {
   "cell_type": "code",
   "execution_count": null,
   "id": "85a61029",
   "metadata": {},
   "outputs": [],
   "source": [
    "# make sub-directries\n",
    "\n",
    "sub_dir_names = []\n",
    "\n",
    "for sf_num in range(sub_folder_num):\n",
    "    str_sf_num = str(sf_num).zfill(5)\n",
    "    sub_folder_name = mother_folder_path + '/' + str_sf_num + '_' + sub_dir_name\n",
    "    os.makedirs(sub_folder_name, exist_ok=True)\n",
    "    sub_dir_names.append(sub_folder_name)"
   ]
  },
  {
   "cell_type": "code",
   "execution_count": null,
   "id": "3d9ce49e",
   "metadata": {},
   "outputs": [],
   "source": [
    "sub_dir_names"
   ]
  },
  {
   "cell_type": "markdown",
   "id": "5ac10fb1",
   "metadata": {},
   "source": [
    "## move hires PNG files"
   ]
  },
  {
   "cell_type": "code",
   "execution_count": null,
   "id": "4569cd5b",
   "metadata": {},
   "outputs": [],
   "source": [
    "# get file names in the original directry\n",
    "\n",
    "files = os.listdir(high_resolution_image_path)\n",
    "print(len(files))\n",
    "files[:5]"
   ]
  },
  {
   "cell_type": "code",
   "execution_count": null,
   "id": "fcf0a641",
   "metadata": {},
   "outputs": [],
   "source": [
    "# function to copy files\n",
    "\n",
    "def copy_files(file, new_path):\n",
    "    new_path = shutil.copy(file, new_path)"
   ]
  },
  {
   "cell_type": "code",
   "execution_count": null,
   "id": "eb3dcbb2",
   "metadata": {},
   "outputs": [],
   "source": [
    "global_counter  = 0\n",
    "image_num = 118\n",
    "image_group_num = len(sub_dir_names)\n",
    "\n",
    "for i in range(image_group_num):\n",
    "    image_num_start = image_num * i\n",
    "    image_num_end   = image_num * (i + 1)\n",
    "    for j in range(image_num_start, image_num_end):\n",
    "        file_to_copy = high_resolution_image_path + '/' + files[j]\n",
    "        new_path = sub_dir_names[i]\n",
    "        copy_files(file_to_copy, new_path)"
   ]
  },
  {
   "cell_type": "markdown",
   "id": "b32e9c3e",
   "metadata": {},
   "source": [
    "## see the first image in sub-directries"
   ]
  },
  {
   "cell_type": "code",
   "execution_count": null,
   "id": "ae15fd26",
   "metadata": {},
   "outputs": [],
   "source": [
    "sub_dirs = os.listdir('mother_folder_of_delivered_images')\n",
    "print(len(sub_dirs))\n",
    "sub_dirs"
   ]
  },
  {
   "cell_type": "code",
   "execution_count": null,
   "id": "fda32ad9",
   "metadata": {},
   "outputs": [],
   "source": [
    "# test to see image\n",
    "\n",
    "for sub_dir in sub_dirs:\n",
    "    files = os.listdir('mother_folder_of_delivered_images/' + sub_dir)\n",
    "    file_path = 'mother_folder_of_delivered_images/' + sub_dir + '/' +  files[0]\n",
    "    print(file_path)\n",
    "    img = cv2.imread(file_path)[:,:,::-1]\n",
    "   \n",
    "    plt.imshow(img)"
   ]
  },
  {
   "cell_type": "code",
   "execution_count": null,
   "id": "a5ca4895",
   "metadata": {},
   "outputs": [],
   "source": [
    "# see the first images in subfolders\n",
    "\n",
    "horz = 5                     # vertical number of graph\n",
    "vert = 4                     # horizontal number of graph\n",
    "graph_num = horz * vert      # maximum number of graphs\n",
    "axes = []\n",
    "\n",
    "print('the first image in sub folders')\n",
    "fig = plt.figure(figsize=(15, 10))\n",
    "\n",
    "for i in range(0, len(sub_dirs)):\n",
    "    axes.append(fig.add_subplot(vert, horz, i+1))\n",
    "\n",
    "    sub_dir = sub_dirs[i]\n",
    "    files = os.listdir('mother_folder_of_delivered_images/' + sub_dir)\n",
    "    file_path = 'mother_folder_of_delivered_images/' + sub_dir + '/' +  files[0]\n",
    "    img = cv2.imread(file_path)[:,:,::-1]\n",
    "    plt.title(sub_dir, fontsize = 10)\n",
    "    plt.xticks([])\n",
    "    plt.yticks([])\n",
    "    plt.imshow(img)\n",
    "\n",
    "plt.show()"
   ]
  },
  {
   "cell_type": "code",
   "execution_count": null,
   "id": "c39ca1c4",
   "metadata": {},
   "outputs": [],
   "source": []
  }
 ],
 "metadata": {
  "kernelspec": {
   "display_name": "Python 3 (ipykernel)",
   "language": "python",
   "name": "python3"
  },
  "language_info": {
   "codemirror_mode": {
    "name": "ipython",
    "version": 3
   },
   "file_extension": ".py",
   "mimetype": "text/x-python",
   "name": "python",
   "nbconvert_exporter": "python",
   "pygments_lexer": "ipython3",
   "version": "3.10.9"
  }
 },
 "nbformat": 4,
 "nbformat_minor": 5
}
