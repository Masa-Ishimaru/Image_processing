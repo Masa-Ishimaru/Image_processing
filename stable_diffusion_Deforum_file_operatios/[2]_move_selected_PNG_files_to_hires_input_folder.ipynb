{
 "cells": [
  {
   "cell_type": "markdown",
   "id": "bf48eb93",
   "metadata": {},
   "source": [
    "## move selected PNG files to input folder to convert hires images"
   ]
  },
  {
   "cell_type": "code",
   "execution_count": 1,
   "id": "9fb869bc",
   "metadata": {},
   "outputs": [],
   "source": [
    "import os\n",
    "import pandas as pd\n",
    "import numpy as np\n",
    "import matplotlib.pyplot as plt\n",
    "import shutil\n",
    "\n",
    "%matplotlib inline"
   ]
  },
  {
   "cell_type": "markdown",
   "id": "a647bad8",
   "metadata": {},
   "source": [
    "## see folders"
   ]
  },
  {
   "cell_type": "code",
   "execution_count": 2,
   "id": "2f35e426",
   "metadata": {},
   "outputs": [
    {
     "name": "stdout",
     "output_type": "stream",
     "text": [
      "['Deforum_20240317054552', 'Deforum_20240317054936', 'Deforum_20240317060140', 'Deforum_20240317060443', 'Deforum_20240317065017', 'Deforum_20240317065358', 'Deforum_20240317065643', 'Deforum_20240317070456', 'Deforum_20240317072225', 'Deforum_20240317073237', 'Deforum_20240317073520']\n",
      "\n",
      "number of sub directries =   11\n"
     ]
    }
   ],
   "source": [
    "# make list of sub-folders\n",
    "\n",
    "i = 0\n",
    "\n",
    "current_dir = []\n",
    "sub_dirs    = []\n",
    "file_names  = []\n",
    "\n",
    "for curDir, dirs, files in os.walk(\"image_folders_to_scan\"):\n",
    "    current_dir.append(curDir)\n",
    "    sub_dirs.append(dirs)\n",
    "    file_names.append(files)\n",
    "\n",
    "sub_dir_names = sub_dirs[0]\n",
    "    \n",
    "#print(current_dir)\n",
    "print(sub_dir_names)\n",
    "#print(file_names)\n",
    "\n",
    "print('\\nnumber of sub directries =  ', len(sub_dir_names))"
   ]
  },
  {
   "cell_type": "markdown",
   "id": "d1b24cb9",
   "metadata": {},
   "source": [
    "## see files"
   ]
  },
  {
   "cell_type": "code",
   "execution_count": 3,
   "id": "0dd34b4b",
   "metadata": {},
   "outputs": [
    {
     "name": "stdout",
     "output_type": "stream",
     "text": [
      "11\n",
      "['20240317054936.mp4', '20240317054936_000000000.png', '20240317054936_000000001.png', '20240317054936_000000002.png', '20240317054936_000000003.png']\n",
      "['20240317054936_000000114.png', '20240317054936_000000115.png', '20240317054936_000000116.png', '20240317054936_000000117.png', '20240317054936_settings.txt']\n"
     ]
    }
   ],
   "source": [
    "file_names_in_folders = file_names[1:] \n",
    "\n",
    "print(len(file_names_in_folders))\n",
    "print(file_names_in_folders[1][:5])\n",
    "print(file_names_in_folders[1][-5:])"
   ]
  },
  {
   "cell_type": "markdown",
   "id": "8eb82d9d",
   "metadata": {},
   "source": [
    "## absolute path of hires input"
   ]
  },
  {
   "cell_type": "code",
   "execution_count": 4,
   "id": "34e306ca",
   "metadata": {},
   "outputs": [],
   "source": [
    "abs_path_hires = 'E:/batch_processing_folder/input'"
   ]
  },
  {
   "cell_type": "markdown",
   "id": "5ac10fb1",
   "metadata": {},
   "source": [
    "## move only PNG files"
   ]
  },
  {
   "cell_type": "code",
   "execution_count": 16,
   "id": "fcf0a641",
   "metadata": {},
   "outputs": [],
   "source": [
    "# function to copy files\n",
    "\n",
    "def copy_files(file, new_path):\n",
    "    new_path = shutil.copy(file, new_path)"
   ]
  },
  {
   "cell_type": "code",
   "execution_count": 20,
   "id": "6abfc301",
   "metadata": {},
   "outputs": [],
   "source": [
    "new_path = abs_path_hires\n",
    "\n",
    "for sub_dir_name in sub_dir_names:\n",
    "    for file in os.listdir('image_folders_to_scan/' + sub_dir_name):\n",
    "        sub_dir_path = 'image_folders_to_scan/' + sub_dir_name + '/'\n",
    "        base, ext = os.path.splitext(file)\n",
    "        if ext == '.png':\n",
    "            copy_files(sub_dir_path + file, abs_path_hires)"
   ]
  },
  {
   "cell_type": "code",
   "execution_count": null,
   "id": "c39ca1c4",
   "metadata": {},
   "outputs": [],
   "source": []
  }
 ],
 "metadata": {
  "kernelspec": {
   "display_name": "Python 3 (ipykernel)",
   "language": "python",
   "name": "python3"
  },
  "language_info": {
   "codemirror_mode": {
    "name": "ipython",
    "version": 3
   },
   "file_extension": ".py",
   "mimetype": "text/x-python",
   "name": "python",
   "nbconvert_exporter": "python",
   "pygments_lexer": "ipython3",
   "version": "3.10.9"
  }
 },
 "nbformat": 4,
 "nbformat_minor": 5
}
