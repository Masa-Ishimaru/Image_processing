{
 "cells": [
  {
   "cell_type": "code",
   "execution_count": 1,
   "id": "c151cd75",
   "metadata": {},
   "outputs": [],
   "source": [
    "# Import libraries\n",
    "\n",
    "import os\n",
    "import re\n",
    "import cv2\n",
    "import matplotlib.pyplot as plt"
   ]
  },
  {
   "cell_type": "code",
   "execution_count": 2,
   "id": "ed644fa8",
   "metadata": {},
   "outputs": [],
   "source": [
    "# Read the TIFF formatted file names in the target directory and their list\n",
    "\n",
    "file_name = []\n",
    "for curDir, dirs, files in os.walk(\"input_images\"):\n",
    "    for file in files:\n",
    "        if file.endswith(\".tif\"):\n",
    "            file_name.append(file)"
   ]
  },
  {
   "cell_type": "code",
   "execution_count": 3,
   "id": "1a0f1246",
   "metadata": {},
   "outputs": [],
   "source": [
    "# Make output directory\n",
    "\n",
    "os.makedirs('output_images', exist_ok = True)"
   ]
  },
  {
   "cell_type": "code",
   "execution_count": 4,
   "id": "979d152f",
   "metadata": {},
   "outputs": [],
   "source": [
    "# Change image size and save files in JPEG format\n",
    "\n",
    "for img_name in file_name:\n",
    "    idx  = img_name.find('.tif')\n",
    "    file = img_name[:idx]\n",
    "    img = cv2.imread('input_images/' + img_name)\n",
    "    img_half = cv2.resize(img, dsize = None, fx = 0.5, fy = 0.5)\n",
    "    cv2.imwrite('output_images/' + file + '.jpg', img_half, [cv2.IMWRITE_JPEG_QUALITY, 100])"
   ]
  },
  {
   "cell_type": "code",
   "execution_count": null,
   "id": "db320b03",
   "metadata": {},
   "outputs": [],
   "source": []
  }
 ],
 "metadata": {
  "kernelspec": {
   "display_name": "Python 3 (ipykernel)",
   "language": "python",
   "name": "python3"
  },
  "language_info": {
   "codemirror_mode": {
    "name": "ipython",
    "version": 3
   },
   "file_extension": ".py",
   "mimetype": "text/x-python",
   "name": "python",
   "nbconvert_exporter": "python",
   "pygments_lexer": "ipython3",
   "version": "3.9.12"
  }
 },
 "nbformat": 4,
 "nbformat_minor": 5
}
