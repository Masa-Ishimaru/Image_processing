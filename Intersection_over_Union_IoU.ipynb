{
 "cells": [
  {
   "cell_type": "markdown",
   "metadata": {},
   "source": [
    "## Intersection over Union (IoU)\n",
    "Reference: https://www.pyimagesearch.com/2016/11/07/intersection-over-union-iou-for-object-detection/ <br><br>\n",
    "But modified"
   ]
  },
  {
   "cell_type": "code",
   "execution_count": 1,
   "metadata": {},
   "outputs": [],
   "source": [
    "import numpy as np\n",
    "import pandas as pd\n",
    "import matplotlib.pyplot as plt\n",
    "import seaborn as sns\n",
    "%matplotlib inline"
   ]
  },
  {
   "cell_type": "code",
   "execution_count": 2,
   "metadata": {},
   "outputs": [
    {
     "name": "stdout",
     "output_type": "stream",
     "text": [
      "[ 0. 77. 23. 26.] [15. 51. 41.  0.]\n"
     ]
    }
   ],
   "source": [
    "bb1 = np.array([0.0, 77.0, 23.0, 26.0])\n",
    "bb2 = np.array([15.0, 51.0, 41.0, 0.0])\n",
    "\n",
    "print(bb1, bb2)"
   ]
  },
  {
   "cell_type": "code",
   "execution_count": 3,
   "metadata": {},
   "outputs": [],
   "source": [
    "def get_iou(boxA, boxB):\n",
    "    \n",
    "    xA = max(boxA[0], boxB[0])\n",
    "    yA = min(boxA[1], boxB[1])\n",
    "    xB = min(boxA[2], boxB[2])\n",
    "    yB = max(boxA[3], boxB[3])\n",
    "    print(xA, yA, xB, yB)\n",
    "\n",
    "    interArea = abs(max((xB - xA), 0) *  min((yB - yA), 0))\n",
    "    \n",
    "    if interArea == 0:\n",
    "        return 0\n",
    "    \n",
    "    # compute the area of both the prediction and ground-truth rectangles\n",
    "    boxAArea = abs((boxA[2] - boxA[0]) * (boxA[3] - boxA[1]))\n",
    "    boxBArea = abs((boxB[2] - boxB[0]) * (boxB[3] - boxB[1]))\n",
    "                   \n",
    "    # compute the intersection over union\n",
    "    iou = interArea / float(boxAArea + boxBArea - interArea)\n",
    "\n",
    "    return iou"
   ]
  },
  {
   "cell_type": "code",
   "execution_count": 4,
   "metadata": {},
   "outputs": [
    {
     "name": "stdout",
     "output_type": "stream",
     "text": [
      "15.0 51.0 23.0 26.0\n"
     ]
    },
    {
     "data": {
      "text/plain": [
       "0.08699434536755112"
      ]
     },
     "execution_count": 4,
     "metadata": {},
     "output_type": "execute_result"
    }
   ],
   "source": [
    "iou = get_iou(bb1, bb2)\n",
    "iou"
   ]
  },
  {
   "cell_type": "code",
   "execution_count": 5,
   "metadata": {},
   "outputs": [
    {
     "data": {
      "image/png": "[encoded data removed]",
      "text/plain": [
       "<Figure size 432x288 with 1 Axes>"
      ]
     },
     "metadata": {
      "needs_background": "light"
     },
     "output_type": "display_data"
    }
   ],
   "source": [
    "plt.scatter(bb1[0], bb1[1], c = 'b')\n",
    "plt.scatter(bb1[2], bb1[3], c = 'b')\n",
    "plt.scatter(bb2[0], bb2[1], c = 'r')\n",
    "plt.scatter(bb2[2], bb2[3], c = 'r')\n",
    "\n",
    "plt.plot([bb1[0], bb1[2]], [bb1[1], bb1[1]], c = 'b')\n",
    "plt.plot([bb1[2], bb1[2]], [bb1[1], bb1[3]], c = 'b')\n",
    "plt.plot([bb1[2], bb1[0]], [bb1[3], bb1[3]], c = 'b')\n",
    "plt.plot([bb1[0], bb1[0]], [bb1[3], bb1[1]], c = 'b')\n",
    "\n",
    "plt.plot([bb2[0], bb2[2]], [bb2[1], bb2[1]], c = 'r')\n",
    "plt.plot([bb2[2], bb2[2]], [bb2[1], bb2[3]], c = 'r')\n",
    "plt.plot([bb2[2], bb2[0]], [bb2[3], bb2[3]], c = 'r')\n",
    "plt.plot([bb2[0], bb2[0]], [bb2[3], bb2[1]], c = 'r')\n",
    "\n",
    "plt.show()"
   ]
  },
  {
   "cell_type": "code",
   "execution_count": null,
   "metadata": {},
   "outputs": [],
   "source": []
  }
 ],
 "metadata": {
  "kernelspec": {
   "display_name": "Python 3",
   "language": "python",
   "name": "python3"
  },
  "language_info": {
   "codemirror_mode": {
    "name": "ipython",
    "version": 3
   },
   "file_extension": ".py",
   "mimetype": "text/x-python",
   "name": "python",
   "nbconvert_exporter": "python",
   "pygments_lexer": "ipython3",
   "version": "3.7.4"
  }
 },
 "nbformat": 4,
 "nbformat_minor": 2
}
