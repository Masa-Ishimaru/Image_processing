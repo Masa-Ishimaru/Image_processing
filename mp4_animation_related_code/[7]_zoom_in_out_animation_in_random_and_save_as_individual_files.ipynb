{
 "cells": [
  {
   "cell_type": "code",
   "execution_count": null,
   "id": "99e847fd",
   "metadata": {},
   "outputs": [],
   "source": [
    "import matplotlib.pyplot as plt\n",
    "import cv2\n",
    "import glob\n",
    "import os\n",
    "import shutil\n",
    "from cv2 import dnn_superres\n",
    "import ipywidgets as widgets\n",
    "from IPython.display import display\n",
    "import random\n",
    "from IPython.display import clear_output"
   ]
  },
  {
   "cell_type": "markdown",
   "id": "57e6f351",
   "metadata": {},
   "source": [
    "## see the image files"
   ]
  },
  {
   "cell_type": "code",
   "execution_count": null,
   "id": "797c74a6",
   "metadata": {},
   "outputs": [],
   "source": [
    "dir_path = 'original_images'\n",
    "\n",
    "files = os.listdir(dir_path)\n",
    "print(len(files))\n",
    "files[:5]"
   ]
  },
  {
   "cell_type": "code",
   "execution_count": null,
   "id": "c8664565",
   "metadata": {},
   "outputs": [],
   "source": [
    "# count the original image number\n",
    "\n",
    "num_files = len(files)\n",
    "num_files"
   ]
  },
  {
   "cell_type": "code",
   "execution_count": null,
   "id": "e99767fe",
   "metadata": {},
   "outputs": [],
   "source": [
    "# make list of zeros and ones for each image in random order\n",
    "\n",
    "random_list = [random.randint(0, 1) for i in range(num_files)]\n",
    "print(*random_list)"
   ]
  },
  {
   "cell_type": "markdown",
   "id": "c08ad2f1",
   "metadata": {},
   "source": [
    "## first image check : color changes, but corrected in the following code"
   ]
  },
  {
   "cell_type": "code",
   "execution_count": null,
   "id": "97d87a3e",
   "metadata": {},
   "outputs": [],
   "source": [
    "# load image\n",
    "\n",
    "img_o = cv2.imread(dir_path + '/' + files[0])[:,:,::-1]\n",
    "img   = cv2.cvtColor(img_o, cv2.COLOR_BGR2RGB) \n",
    "plt.imshow(img)"
   ]
  },
  {
   "cell_type": "code",
   "execution_count": null,
   "id": "facee5d9",
   "metadata": {},
   "outputs": [],
   "source": [
    "# get image size\n",
    "\n",
    "height_o, width_o, channels = img.shape[:3]\n",
    "print( width_o, height_o)"
   ]
  },
  {
   "cell_type": "code",
   "execution_count": null,
   "id": "fb4a28fc",
   "metadata": {},
   "outputs": [],
   "source": [
    "# make directory for images made\n",
    "\n",
    "os.makedirs('resized_images', exist_ok=True)"
   ]
  },
  {
   "cell_type": "markdown",
   "id": "c10a76b3",
   "metadata": {},
   "source": [
    "## first, determine duration of 1 image animation"
   ]
  },
  {
   "cell_type": "code",
   "execution_count": null,
   "id": "b34ed017",
   "metadata": {},
   "outputs": [],
   "source": [
    "one_animation_duration = input('impot duration for one image in seconds :  ')"
   ]
  },
  {
   "cell_type": "code",
   "execution_count": null,
   "id": "d2c0998b",
   "metadata": {},
   "outputs": [],
   "source": [
    "one_animation_image_num = int(float(one_animation_duration) * 15)          # 10 = flames / sec\n",
    "print('number of images =  ', one_animation_image_num, '  pcs')"
   ]
  },
  {
   "cell_type": "code",
   "execution_count": null,
   "id": "5125f96a",
   "metadata": {},
   "outputs": [],
   "source": [
    "zoom_rate = 0.8"
   ]
  },
  {
   "cell_type": "code",
   "execution_count": null,
   "id": "2dabf312",
   "metadata": {},
   "outputs": [],
   "source": [
    "# crop test : reduce pixels from 4 sides\n",
    "\n",
    "pixel_to_reduce_in_x = zoom_rate * one_animation_image_num\n",
    "print('pixel_to_reduce_in_x = ', pixel_to_reduce_in_x)\n",
    "pixel_to_reduce_h = int(pixel_to_reduce_in_x)\n",
    "pixel_to_reduce_w = int(pixel_to_reduce_in_x * (2/3))\n",
    "\n",
    "img_resize  = img[pixel_to_reduce_h : height_o - pixel_to_reduce_w, pixel_to_reduce_w : width_o - pixel_to_reduce_w]\n",
    "\n",
    "height_rsz, width_rsz, channels = img_resize.shape[:3]\n",
    "print('width, height =  ', width_rsz, height_rsz)\n",
    "plt.imshow(img_resize)"
   ]
  },
  {
   "cell_type": "code",
   "execution_count": null,
   "id": "de10a66d",
   "metadata": {},
   "outputs": [],
   "source": [
    "# zoom in function\n",
    "\n",
    "def zoom_in(img, pixcel_reduce, animation_image_order):        # min pixcel_reduce = around 3 depends on the original size\n",
    "    height_o, width_o, channels = img.shape[:3]\n",
    "    \n",
    "    pixel_to_reduce_in_x = pixcel_reduce * animation_image_order\n",
    "    pixel_to_reduce_h = int(pixel_to_reduce_in_x)\n",
    "    pixel_to_reduce_w = int(pixel_to_reduce_in_x * (2/3))\n",
    "    \n",
    "    img_resize  = img[pixel_to_reduce_h : height_o - pixel_to_reduce_w, pixel_to_reduce_w : width_o - pixel_to_reduce_w]\n",
    "    img2 = cv2.resize(img_resize, (width_rsz, height_rsz))\n",
    "    \n",
    "    return img2 "
   ]
  },
  {
   "cell_type": "code",
   "execution_count": null,
   "id": "b12fb0b0",
   "metadata": {},
   "outputs": [],
   "source": [
    "# zoom out function\n",
    "\n",
    "def zoom_out(img, pixcel_reduce, animation_image_order):        # min pixcel_reduce = around 3 depends on the original size\n",
    "    height_o, width_o, channels = img.shape[:3]\n",
    "    \n",
    "    pixel_to_reduce_in_x = pixcel_reduce * (one_animation_image_num - animation_image_order)\n",
    "    pixel_to_reduce_h = int(pixel_to_reduce_in_x)\n",
    "    pixel_to_reduce_w = int(pixel_to_reduce_in_x * (2/3))\n",
    "    \n",
    "    img_resize  = img[pixel_to_reduce_h : height_o - pixel_to_reduce_w, pixel_to_reduce_w : width_o - pixel_to_reduce_w]\n",
    "    img2 = cv2.resize(img_resize, (width_rsz, height_rsz))\n",
    "    \n",
    "    return img2 "
   ]
  },
  {
   "cell_type": "code",
   "execution_count": null,
   "id": "22fec45b",
   "metadata": {},
   "outputs": [],
   "source": [
    "# make images for animation using all images\n",
    "\n",
    "image_global_num = 0\n",
    "\n",
    "for i in range(num_files):\n",
    "   \n",
    "    if random_list[i] == 0:\n",
    "        original_image = files[i]\n",
    "        img_o = cv2.imread(dir_path + '/' + original_image)[:,:,::-1]\n",
    "        img   = cv2.cvtColor(img_o, cv2.COLOR_BGR2RGB)\n",
    "        for operation_num in range(one_animation_image_num):\n",
    "            image_continuous_num = str(image_global_num).zfill(5)\n",
    "            if operation_num <= one_animation_image_num:\n",
    "                img_resize = zoom_in(img, zoom_rate, operation_num)\n",
    "            else:\n",
    "                img_resize = zoom_in(img, zoom_rate, one_animation_image_num) \n",
    "            cv2.imwrite('resized_images/' + image_continuous_num + '_resized_image.png' , img_resize)\n",
    "            image_global_num += 1\n",
    "\n",
    "    if random_list[i] == 1:\n",
    "        original_image = files[i]\n",
    "        img_o = cv2.imread(dir_path + '/' + original_image)[:,:,::-1]\n",
    "        img   = cv2.cvtColor(img_o, cv2.COLOR_BGR2RGB)\n",
    "        for operation_num in range(one_animation_image_num):\n",
    "            image_continuous_num = str(image_global_num).zfill(5)\n",
    "            if operation_num <= one_animation_image_num:\n",
    "                img_resize = zoom_out(img, zoom_rate, operation_num)\n",
    "            else:\n",
    "                img_resize = zoom_out(img, zoom_rate, one_animation_image_num)        \n",
    "            cv2.imwrite('resized_images/' + image_continuous_num + '_resized_image.png' , img_resize)        \n",
    "            image_global_num += 1    \n",
    "    \n",
    "    clear_output(True)\n",
    "    print('processing in : ', i + 1, ' out of ', num_files)\n",
    "            \n",
    "print('Done!')"
   ]
  },
  {
   "cell_type": "markdown",
   "id": "5549e3de",
   "metadata": {},
   "source": [
    "## make animation and save individually"
   ]
  },
  {
   "cell_type": "markdown",
   "id": "e9f2d3e0",
   "metadata": {},
   "source": [
    "## animation head name\n",
    "zoom_in_out_animation_"
   ]
  },
  {
   "cell_type": "code",
   "execution_count": null,
   "id": "ae808e06",
   "metadata": {},
   "outputs": [],
   "source": [
    "name_of_animation_head = 'zoom_in_out_animation_'"
   ]
  },
  {
   "cell_type": "code",
   "execution_count": null,
   "id": "24da54ba",
   "metadata": {},
   "outputs": [],
   "source": [
    "# read PNG files in the target directory and make their list\n",
    "\n",
    "def make_img_array(counter, one_animation_image_num):\n",
    "    \n",
    "    filenames = glob.glob(\"resized_images/*.png\")\n",
    "    img_array = []\n",
    "    \n",
    "    for filename_counter in range(counter * one_animation_image_num, (counter + 1) * one_animation_image_num):\n",
    "        filename = filenames[filename_counter]\n",
    "        img = cv2.imread(filename)\n",
    "        height, width, layers = img.shape\n",
    "        size = (width, height)\n",
    "        img_array.append(img)\n",
    "        \n",
    "    return img_array, size"
   ]
  },
  {
   "cell_type": "code",
   "execution_count": null,
   "id": "16b73466",
   "metadata": {},
   "outputs": [],
   "source": [
    "for counter in range(len(files)):\n",
    "    count_tail = str(counter).zfill(3)\n",
    "    img_array, size = make_img_array(counter, one_animation_image_num)\n",
    "    #print(len(img_array), count_tail)"
   ]
  },
  {
   "cell_type": "code",
   "execution_count": null,
   "id": "50f11b08",
   "metadata": {},
   "outputs": [],
   "source": [
    "# Change images to mp4 animation\n",
    "\n",
    "def make_mp4_animation(name, img_array):\n",
    "    out = cv2.VideoWriter(name + '.mp4', cv2.VideoWriter_fourcc(*'mp4v'), 15, size)\n",
    "\n",
    "    for i in range(len(img_array)):\n",
    "        out.write(img_array[i])\n",
    "    out.release()"
   ]
  },
  {
   "cell_type": "code",
   "execution_count": null,
   "id": "ed0b15f9",
   "metadata": {},
   "outputs": [],
   "source": [
    "for counter in range(len(files)):\n",
    "    count_tail = str(counter).zfill(3)\n",
    "    name = name_of_animation_head + count_tail\n",
    "    img_array, size = make_img_array(counter, one_animation_image_num)\n",
    "    make_mp4_animation(name, img_array)"
   ]
  },
  {
   "cell_type": "code",
   "execution_count": null,
   "id": "bfb593ed",
   "metadata": {},
   "outputs": [],
   "source": []
  },
  {
   "cell_type": "code",
   "execution_count": null,
   "id": "85287de5",
   "metadata": {},
   "outputs": [],
   "source": []
  },
  {
   "cell_type": "code",
   "execution_count": null,
   "id": "36cda8f9",
   "metadata": {},
   "outputs": [],
   "source": [
    "print('\\nJust suspended for safety.\\n')\n",
    "button = widgets.Button(description = 'CONTUNUE?')\n",
    "display(button)"
   ]
  },
  {
   "cell_type": "code",
   "execution_count": null,
   "id": "09dfca12",
   "metadata": {},
   "outputs": [],
   "source": []
  },
  {
   "cell_type": "code",
   "execution_count": null,
   "id": "40311f78",
   "metadata": {},
   "outputs": [],
   "source": []
  },
  {
   "cell_type": "markdown",
   "id": "adc4627a",
   "metadata": {},
   "source": [
    "## move the file to add music if necessary"
   ]
  },
  {
   "cell_type": "code",
   "execution_count": null,
   "id": "888970e0",
   "metadata": {},
   "outputs": [],
   "source": [
    "path_to_move = 'D:/+Python_code_picture_related/+make_mp4_animation'"
   ]
  },
  {
   "cell_type": "code",
   "execution_count": null,
   "id": "2efd7c65",
   "metadata": {},
   "outputs": [],
   "source": [
    "new_path = shutil.move(name + '.mp4', path_to_move)"
   ]
  },
  {
   "cell_type": "code",
   "execution_count": null,
   "id": "398266cb",
   "metadata": {},
   "outputs": [],
   "source": []
  },
  {
   "cell_type": "code",
   "execution_count": null,
   "id": "7653e6b2",
   "metadata": {},
   "outputs": [],
   "source": []
  },
  {
   "cell_type": "markdown",
   "id": "fcde2bc4",
   "metadata": {},
   "source": [
    "## move no use directries"
   ]
  },
  {
   "cell_type": "code",
   "execution_count": null,
   "id": "47afc990",
   "metadata": {},
   "outputs": [],
   "source": [
    "# make new directry to move used files\n",
    "\n",
    "os.makedirs('x_folders_to_remove', exist_ok=True)"
   ]
  },
  {
   "cell_type": "code",
   "execution_count": null,
   "id": "b61e3465",
   "metadata": {},
   "outputs": [],
   "source": [
    "current_path = 'resized_images'\n",
    "not_use_path = 'x_folders_to_remove'\n",
    "\n",
    "new_path = shutil.move(current_path, not_use_path)"
   ]
  },
  {
   "cell_type": "code",
   "execution_count": null,
   "id": "93b8fae2",
   "metadata": {},
   "outputs": [],
   "source": []
  },
  {
   "cell_type": "code",
   "execution_count": null,
   "id": "8749b6bf",
   "metadata": {},
   "outputs": [],
   "source": []
  },
  {
   "cell_type": "markdown",
   "id": "9243f4f5",
   "metadata": {},
   "source": [
    " ## delete no use folders"
   ]
  },
  {
   "cell_type": "code",
   "execution_count": null,
   "id": "0339af06",
   "metadata": {},
   "outputs": [],
   "source": [
    "shutil.rmtree('x_folders_to_remove')"
   ]
  },
  {
   "cell_type": "code",
   "execution_count": null,
   "id": "8a862f6a",
   "metadata": {},
   "outputs": [],
   "source": []
  },
  {
   "cell_type": "code",
   "execution_count": null,
   "id": "6a9e0db5",
   "metadata": {},
   "outputs": [],
   "source": []
  }
 ],
 "metadata": {
  "kernelspec": {
   "display_name": "Python 3 (ipykernel)",
   "language": "python",
   "name": "python3"
  },
  "language_info": {
   "codemirror_mode": {
    "name": "ipython",
    "version": 3
   },
   "file_extension": ".py",
   "mimetype": "text/x-python",
   "name": "python",
   "nbconvert_exporter": "python",
   "pygments_lexer": "ipython3",
   "version": "3.10.9"
  }
 },
 "nbformat": 4,
 "nbformat_minor": 5
}
