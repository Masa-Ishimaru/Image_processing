{
 "cells": [
  {
   "cell_type": "code",
   "execution_count": null,
   "id": "99e847fd",
   "metadata": {},
   "outputs": [],
   "source": [
    "import matplotlib.pyplot as plt\n",
    "import cv2\n",
    "import glob\n",
    "import os\n",
    "import shutil\n",
    "from cv2 import dnn_superres\n",
    "import ipywidgets as widgets\n",
    "\n",
    "import random\n",
    "from IPython.display import clear_output"
   ]
  },
  {
   "cell_type": "markdown",
   "id": "57e6f351",
   "metadata": {},
   "source": [
    "## see the image files"
   ]
  },
  {
   "cell_type": "code",
   "execution_count": null,
   "id": "797c74a6",
   "metadata": {},
   "outputs": [],
   "source": [
    "dir_path = 'original_images'\n",
    "\n",
    "files = os.listdir(dir_path)\n",
    "files"
   ]
  },
  {
   "cell_type": "code",
   "execution_count": null,
   "id": "c8664565",
   "metadata": {},
   "outputs": [],
   "source": [
    "# count the original image number\n",
    "\n",
    "num_files = len(files)\n",
    "num_files"
   ]
  },
  {
   "cell_type": "code",
   "execution_count": null,
   "id": "c4073d32",
   "metadata": {},
   "outputs": [],
   "source": [
    "# make list of new file names\n",
    "\n",
    "file_name_list = []\n",
    "for i in range(num_files):\n",
    "    name_of_file = str(i).zfill(4)\n",
    "    file_name_list.append(name_of_file)\n",
    "    \n",
    "print(*file_name_list)"
   ]
  },
  {
   "cell_type": "markdown",
   "id": "c08ad2f1",
   "metadata": {},
   "source": [
    "## first image check"
   ]
  },
  {
   "cell_type": "code",
   "execution_count": null,
   "id": "644b512b",
   "metadata": {},
   "outputs": [],
   "source": [
    "# load image\n",
    "\n",
    "img_test = cv2.imread(dir_path + '/' + files[0])\n",
    "img      = cv2.cvtColor(img_test, cv2.COLOR_BGR2RGB)\n",
    "plt.imshow(img)\n",
    "plt.show()"
   ]
  },
  {
   "cell_type": "code",
   "execution_count": null,
   "id": "97d87a3e",
   "metadata": {},
   "outputs": [],
   "source": [
    "# flip image\n",
    "\n",
    "img_o = cv2.imread(dir_path + '/' + files[0])\n",
    "img   = cv2.cvtColor(img_o, cv2.COLOR_BGR2RGB)\n",
    "img_r = cv2.flip(img, 1)\n",
    "plt.imshow(img_r)\n",
    "plt.show()"
   ]
  },
  {
   "cell_type": "code",
   "execution_count": null,
   "id": "facee5d9",
   "metadata": {},
   "outputs": [],
   "source": [
    "# get image size\n",
    "\n",
    "height_o, width_o, channels = img.shape[:3]\n",
    "print( width_o, height_o)"
   ]
  },
  {
   "cell_type": "code",
   "execution_count": null,
   "id": "fb4a28fc",
   "metadata": {},
   "outputs": [],
   "source": [
    "# make directory for images made\n",
    "\n",
    "os.makedirs('original_and_flipped_images', exist_ok=True)\n",
    "os.makedirs('resized_images', exist_ok=True)"
   ]
  },
  {
   "cell_type": "markdown",
   "id": "6259335e",
   "metadata": {},
   "source": [
    "## add filpped images right side left"
   ]
  },
  {
   "cell_type": "code",
   "execution_count": null,
   "id": "4037bbb7",
   "metadata": {},
   "outputs": [],
   "source": [
    "for i in range(len(files)):\n",
    "\n",
    "    img_o = cv2.imread(dir_path + '/' + files[i])\n",
    "    img_r = cv2.flip(img_o, 1)\n",
    "    \n",
    "    cv2.imwrite('original_and_flipped_images/' + file_name_list[i] + '_1_original.png' , img_o)\n",
    "    cv2.imwrite('original_and_flipped_images/' + file_name_list[i] + '_2_flipped_.png' , img_r)   "
   ]
  },
  {
   "cell_type": "markdown",
   "id": "c10a76b3",
   "metadata": {},
   "source": [
    "## determine how many zoom images to generate"
   ]
  },
  {
   "cell_type": "code",
   "execution_count": null,
   "id": "b34ed017",
   "metadata": {},
   "outputs": [],
   "source": [
    "one_animation_duration = 1\n",
    "one_animation_image_num = int(float(one_animation_duration) * 5)\n",
    "print('number of images =  ', one_animation_image_num, '  pcs')"
   ]
  },
  {
   "cell_type": "code",
   "execution_count": null,
   "id": "5125f96a",
   "metadata": {},
   "outputs": [],
   "source": [
    "zoom_rate = 7.0"
   ]
  },
  {
   "cell_type": "code",
   "execution_count": null,
   "id": "bb3f715a",
   "metadata": {},
   "outputs": [],
   "source": [
    "# crop test : reduce pixels from 4 sides\n",
    "\n",
    "pixel_to_reduce_in_x = zoom_rate * one_animation_image_num\n",
    "print('pixel_to_reduce_in_x = ', pixel_to_reduce_in_x)\n",
    "pixel_to_reduce_h = int(pixel_to_reduce_in_x)\n",
    "pixel_to_reduce_w = int(pixel_to_reduce_in_x * (2/3))\n",
    "\n",
    "img_resize  = img[pixel_to_reduce_h : height_o - pixel_to_reduce_w, pixel_to_reduce_w : width_o - pixel_to_reduce_w]\n",
    "\n",
    "height_rsz, width_rsz, channels = img_resize.shape[:3]\n",
    "print('width, height =  ', width_rsz, height_rsz)\n",
    "plt.imshow(img_resize)\n",
    "plt.show()"
   ]
  },
  {
   "cell_type": "code",
   "execution_count": null,
   "id": "de10a66d",
   "metadata": {},
   "outputs": [],
   "source": [
    "# zoom in function\n",
    "\n",
    "def zoom_in(img, pixcel_reduce, animation_image_order):        # min pixcel_reduce = around 3 depends on the original size\n",
    "    height_o, width_o, channels = img.shape[:3]\n",
    "    \n",
    "    pixel_to_reduce_in_x = pixcel_reduce * animation_image_order\n",
    "    pixel_to_reduce_h = int(pixel_to_reduce_in_x)\n",
    "    pixel_to_reduce_w = int(pixel_to_reduce_in_x * (2/3))\n",
    "    \n",
    "    img_resize  = img[pixel_to_reduce_h : height_o - pixel_to_reduce_w, pixel_to_reduce_w : width_o - pixel_to_reduce_w]\n",
    "    img2 = cv2.resize(img_resize, (width_rsz, height_rsz))\n",
    "    \n",
    "    return img2 "
   ]
  },
  {
   "cell_type": "code",
   "execution_count": null,
   "id": "22fec45b",
   "metadata": {},
   "outputs": [],
   "source": [
    "# make images for animation using all images\n",
    "\n",
    "dir_path = 'original_and_flipped_images'\n",
    "files = os.listdir(dir_path)\n",
    "\n",
    "image_global_num = 0\n",
    "\n",
    "for i in range(len(files)):\n",
    "\n",
    "    original_image = files[i]\n",
    "    img_o = cv2.imread(dir_path + '/' + original_image)[:,:,::-1]\n",
    "    img   = cv2.cvtColor(img_o, cv2.COLOR_BGR2RGB)\n",
    "    for operation_num in range(one_animation_image_num):\n",
    "        image_continuous_num = str(image_global_num).zfill(3)\n",
    "        if operation_num <= one_animation_image_num:\n",
    "            img_resize = zoom_in(img, zoom_rate, operation_num)\n",
    "        else:\n",
    "            img_resize = zoom_in(img, zoom_rate, one_animation_image_num)\n",
    "            \n",
    "        img_ds = cv2.resize(img_resize, (512, 768))\n",
    "        f_name = files[i].replace(\".png\", \"\")\n",
    "        cv2.imwrite('resized_images/' + f_name + '_' + image_continuous_num + '.png' , img_ds)\n",
    "        image_global_num += 1\n",
    "    \n",
    "    clear_output(True)\n",
    "    print('processing in : ', i + 1, ' out of ', len(files))\n",
    "            \n",
    "print('Done!')"
   ]
  },
  {
   "cell_type": "code",
   "execution_count": null,
   "id": "6a9e0db5",
   "metadata": {},
   "outputs": [],
   "source": []
  },
  {
   "cell_type": "code",
   "execution_count": null,
   "id": "abd1c339",
   "metadata": {},
   "outputs": [],
   "source": []
  }
 ],
 "metadata": {
  "kernelspec": {
   "display_name": "Python 3 (ipykernel)",
   "language": "python",
   "name": "python3"
  },
  "language_info": {
   "codemirror_mode": {
    "name": "ipython",
    "version": 3
   },
   "file_extension": ".py",
   "mimetype": "text/x-python",
   "name": "python",
   "nbconvert_exporter": "python",
   "pygments_lexer": "ipython3",
   "version": "3.10.9"
  }
 },
 "nbformat": 4,
 "nbformat_minor": 5
}
