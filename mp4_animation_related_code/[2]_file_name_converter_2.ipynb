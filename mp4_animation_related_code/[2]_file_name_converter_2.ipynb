{
 "cells": [
  {
   "cell_type": "code",
   "execution_count": 1,
   "id": "9fb869bc",
   "metadata": {},
   "outputs": [],
   "source": [
    "import os\n",
    "import shutil"
   ]
  },
  {
   "cell_type": "code",
   "execution_count": 6,
   "id": "69582311",
   "metadata": {},
   "outputs": [],
   "source": [
    "# make input image path\n",
    "\n",
    "os.makedirs('image_data_before_convert_names', exist_ok=True)\n",
    "os.makedirs('image_data_xafter_convert_names', exist_ok=True)"
   ]
  },
  {
   "cell_type": "code",
   "execution_count": 7,
   "id": "1e96ae04",
   "metadata": {},
   "outputs": [
    {
     "name": "stdout",
     "output_type": "stream",
     "text": [
      "determine number of sub-folders in the image_data_folder :  10\n"
     ]
    },
    {
     "data": {
      "text/plain": [
       "10"
      ]
     },
     "execution_count": 7,
     "metadata": {},
     "output_type": "execute_result"
    }
   ],
   "source": [
    "# determine sub directory number\n",
    "\n",
    "sub_folder_num = input('determine number of sub-folders in the image_data_folder :  ')\n",
    "sub_folder_num = int(sub_folder_num)\n",
    "sub_folder_num"
   ]
  },
  {
   "cell_type": "code",
   "execution_count": 8,
   "id": "c1f2d962",
   "metadata": {},
   "outputs": [],
   "source": [
    "for sf_num in range(sub_folder_num):\n",
    "    str_sf_num = str(sf_num).zfill(5)\n",
    "    os.makedirs('image_data_before_convert_names/' + str_sf_num + '_image_files', exist_ok=True)"
   ]
  },
  {
   "cell_type": "code",
   "execution_count": null,
   "id": "35e0f40e",
   "metadata": {},
   "outputs": [],
   "source": []
  },
  {
   "cell_type": "markdown",
   "id": "58b8e0b2",
   "metadata": {},
   "source": [
    "## ! put image files into each image folder by yourself"
   ]
  },
  {
   "cell_type": "markdown",
   "id": "2f22937c",
   "metadata": {},
   "source": [
    "## see folders and files"
   ]
  },
  {
   "cell_type": "code",
   "execution_count": 17,
   "id": "9c8d7179",
   "metadata": {
    "scrolled": false
   },
   "outputs": [],
   "source": [
    "i = 0\n",
    "\n",
    "current_dir = []\n",
    "sub_dirs    = []\n",
    "file_names  = []\n",
    "\n",
    "for curDir, dirs, files in os.walk(\"image_data_before_convert_names\"):\n",
    "    current_dir.append(curDir)\n",
    "    sub_dirs.append(dirs)\n",
    "    file_names.append(files)\n",
    "\n",
    "# print(current_dir)\n",
    "#print(sub_dirs[0])\n",
    "# print(file_names)"
   ]
  },
  {
   "cell_type": "code",
   "execution_count": 18,
   "id": "8225b5f6",
   "metadata": {},
   "outputs": [
    {
     "name": "stdout",
     "output_type": "stream",
     "text": [
      "10\n"
     ]
    },
    {
     "data": {
      "text/plain": [
       "['image_data_before_convert_names\\\\00000_image_files',\n",
       " 'image_data_before_convert_names\\\\00001_image_files',\n",
       " 'image_data_before_convert_names\\\\00002_image_files',\n",
       " 'image_data_before_convert_names\\\\00003_image_files',\n",
       " 'image_data_before_convert_names\\\\00004_image_files',\n",
       " 'image_data_before_convert_names\\\\00005_image_files',\n",
       " 'image_data_before_convert_names\\\\00006_image_files',\n",
       " 'image_data_before_convert_names\\\\00007_image_files',\n",
       " 'image_data_before_convert_names\\\\00008_image_files',\n",
       " 'image_data_before_convert_names\\\\00009_image_files']"
      ]
     },
     "execution_count": 18,
     "metadata": {},
     "output_type": "execute_result"
    }
   ],
   "source": [
    "# targer directries to read out\n",
    "\n",
    "target_dirs = current_dir[1:]\n",
    "print(len(target_dirs))\n",
    "target_dirs"
   ]
  },
  {
   "cell_type": "code",
   "execution_count": 19,
   "id": "58a4d5d2",
   "metadata": {},
   "outputs": [
    {
     "data": {
      "text/plain": [
       "['image_data_before_convert_names/00000_image_files',\n",
       " 'image_data_before_convert_names/00001_image_files',\n",
       " 'image_data_before_convert_names/00002_image_files',\n",
       " 'image_data_before_convert_names/00003_image_files',\n",
       " 'image_data_before_convert_names/00004_image_files',\n",
       " 'image_data_before_convert_names/00005_image_files',\n",
       " 'image_data_before_convert_names/00006_image_files',\n",
       " 'image_data_before_convert_names/00007_image_files',\n",
       " 'image_data_before_convert_names/00008_image_files',\n",
       " 'image_data_before_convert_names/00009_image_files']"
      ]
     },
     "execution_count": 19,
     "metadata": {},
     "output_type": "execute_result"
    }
   ],
   "source": [
    "# cahnge \\\\ to / to operate\n",
    "\n",
    "target_dir_names = []\n",
    "\n",
    "for target_dir in target_dirs:\n",
    "    target_dir_name = target_dir.replace('\\\\', '/')\n",
    "    target_dir_names.append(target_dir_name)\n",
    "    \n",
    "target_dir_names"
   ]
  },
  {
   "cell_type": "code",
   "execution_count": 21,
   "id": "d792be5c",
   "metadata": {},
   "outputs": [
    {
     "name": "stdout",
     "output_type": "stream",
     "text": [
      "118\n"
     ]
    },
    {
     "data": {
      "text/plain": [
       "['20240313165432_000000000.png',\n",
       " '20240313165432_000000001.png',\n",
       " '20240313165432_000000002.png',\n",
       " '20240313165432_000000003.png',\n",
       " '20240313165432_000000004.png',\n",
       " '20240313165432_000000005.png',\n",
       " '20240313165432_000000006.png',\n",
       " '20240313165432_000000007.png',\n",
       " '20240313165432_000000008.png',\n",
       " '20240313165432_000000009.png']"
      ]
     },
     "execution_count": 21,
     "metadata": {},
     "output_type": "execute_result"
    }
   ],
   "source": [
    "# see file names in folder\n",
    "\n",
    "target_files = file_names[1:]\n",
    "print(len(target_files[1]))\n",
    "target_files[0][:10]"
   ]
  },
  {
   "cell_type": "markdown",
   "id": "2ac5ca89",
   "metadata": {},
   "source": [
    "## convert names in order"
   ]
  },
  {
   "cell_type": "code",
   "execution_count": 26,
   "id": "f1e69c01",
   "metadata": {},
   "outputs": [],
   "source": [
    "x = 0\n",
    "\n",
    "for sub_dir_num in range(len(target_dir_names)):\n",
    "    for file_name in range(len(target_files[sub_dir_num])):\n",
    "        str_x = str(x).zfill(5)\n",
    "        copy_from_path = (target_dir_names[sub_dir_num] + '/' + str(target_files[sub_dir_num][file_name]))\n",
    "        copy_to_path   = 'image_data_xafter_convert_names' + '/' + str_x + '_' + str(target_files[sub_dir_num][file_name])\n",
    "        shutil.copy2(copy_from_path, copy_to_path)\n",
    "    \n",
    "        x += 1"
   ]
  },
  {
   "cell_type": "code",
   "execution_count": null,
   "id": "f9d94356",
   "metadata": {},
   "outputs": [],
   "source": []
  },
  {
   "cell_type": "code",
   "execution_count": null,
   "id": "8a862f6a",
   "metadata": {},
   "outputs": [],
   "source": []
  },
  {
   "cell_type": "markdown",
   "id": "9243f4f5",
   "metadata": {},
   "source": [
    " ## delete image folders used if not necessary anymore"
   ]
  },
  {
   "cell_type": "code",
   "execution_count": 27,
   "id": "0339af06",
   "metadata": {},
   "outputs": [],
   "source": [
    "shutil.rmtree('image_data_before_convert_names/')\n",
    "shutil.rmtree('image_data_xafter_convert_names/')"
   ]
  },
  {
   "cell_type": "code",
   "execution_count": null,
   "id": "ee18ac1c",
   "metadata": {},
   "outputs": [],
   "source": []
  }
 ],
 "metadata": {
  "kernelspec": {
   "display_name": "Python 3 (ipykernel)",
   "language": "python",
   "name": "python3"
  },
  "language_info": {
   "codemirror_mode": {
    "name": "ipython",
    "version": 3
   },
   "file_extension": ".py",
   "mimetype": "text/x-python",
   "name": "python",
   "nbconvert_exporter": "python",
   "pygments_lexer": "ipython3",
   "version": "3.10.9"
  }
 },
 "nbformat": 4,
 "nbformat_minor": 5
}
