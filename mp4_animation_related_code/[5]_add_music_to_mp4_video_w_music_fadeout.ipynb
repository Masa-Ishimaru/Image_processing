{
 "cells": [
  {
   "cell_type": "markdown",
   "id": "95813d31",
   "metadata": {},
   "source": [
    "## add music to mp4 movie files"
   ]
  },
  {
   "cell_type": "markdown",
   "id": "e496f5f6",
   "metadata": {},
   "source": [
    "Reference:<br>\n",
    "https://qiita.com/nyancook/items/786cffd0b07bad8b4444"
   ]
  },
  {
   "cell_type": "code",
   "execution_count": null,
   "id": "c793e6cd",
   "metadata": {},
   "outputs": [],
   "source": [
    "# !pip install moviepy\n",
    "#!pip install ffmpeg-python"
   ]
  },
  {
   "cell_type": "code",
   "execution_count": 1,
   "id": "9b777595",
   "metadata": {},
   "outputs": [],
   "source": [
    "import os\n",
    "import glob\n",
    "from moviepy.editor import *\n",
    "import pydub\n",
    "from pydub import AudioSegment\n",
    "import ffmpeg\n",
    "from pydub.utils import db_to_float, ratio_to_db"
   ]
  },
  {
   "cell_type": "markdown",
   "id": "6657f245",
   "metadata": {},
   "source": [
    "## convert music from m4a to mp3 format in the same folder"
   ]
  },
  {
   "cell_type": "code",
   "execution_count": 2,
   "id": "47a725e1",
   "metadata": {},
   "outputs": [
    {
     "name": "stdout",
     "output_type": "stream",
     "text": [
      "input the music path :  D:\\+Python_code_picture_related\\+music_dir\\Jonathan Frotzen Piano Tales\n"
     ]
    },
    {
     "data": {
      "text/plain": [
       "'D:/+Python_code_picture_related/+music_dir/Jonathan Frotzen Piano Tales'"
      ]
     },
     "execution_count": 2,
     "metadata": {},
     "output_type": "execute_result"
    }
   ],
   "source": [
    "music_path = input('input the music path :  ')\n",
    "music_path = music_path.replace('\\\\', '/')\n",
    "music_path"
   ]
  },
  {
   "cell_type": "code",
   "execution_count": 3,
   "id": "c9105c11",
   "metadata": {},
   "outputs": [
    {
     "name": "stdout",
     "output_type": "stream",
     "text": [
      "input music to insert :  Safe and Sound\n"
     ]
    },
    {
     "data": {
      "text/plain": [
       "'Safe and Sound'"
      ]
     },
     "execution_count": 3,
     "metadata": {},
     "output_type": "execute_result"
    }
   ],
   "source": [
    "music_name = input('input music to insert :  ')\n",
    "music_name"
   ]
  },
  {
   "cell_type": "code",
   "execution_count": 4,
   "id": "da150d32",
   "metadata": {},
   "outputs": [],
   "source": [
    "try:\n",
    "    path = music_path + '/' + music_name + '.m4a'\n",
    "    to = 'mp3'\n",
    "    s = ffmpeg.input(path)\n",
    "    s = ffmpeg.output(s, f\"{path.split('.')[0]}.{to}\")\n",
    "    ffmpeg.run(s)\n",
    "    \n",
    "except:\n",
    "    pass"
   ]
  },
  {
   "cell_type": "markdown",
   "id": "30a84aed",
   "metadata": {},
   "source": [
    "## get mp4 movie duration info"
   ]
  },
  {
   "cell_type": "code",
   "execution_count": 5,
   "id": "4a743517",
   "metadata": {},
   "outputs": [
    {
     "name": "stdout",
     "output_type": "stream",
     "text": [
      "input video name to add music:  movie_out_c_028\n"
     ]
    }
   ],
   "source": [
    "video_name = input('input video name to add music:  ')"
   ]
  },
  {
   "cell_type": "code",
   "execution_count": 9,
   "id": "0a228d21",
   "metadata": {},
   "outputs": [],
   "source": [
    "# function to get hours, numutes, and seconds from seconds\n",
    "\n",
    "def get_h_m_s(sec):\n",
    "    m, s = divmod(sec, 60)\n",
    "    h, m = divmod(m, 60)\n",
    "    return h, m, s"
   ]
  },
  {
   "cell_type": "code",
   "execution_count": 10,
   "id": "ecb76f55",
   "metadata": {},
   "outputs": [
    {
     "name": "stdout",
     "output_type": "stream",
     "text": [
      "movie duration =  1  minutes  50.13  seconds\n"
     ]
    }
   ],
   "source": [
    "movie_info = ffmpeg.probe(video_name + '.mp4')\n",
    "movie_length = float(movie_info['format']['duration'])\n",
    "h, m, s = get_h_m_s(movie_length)\n",
    "print('movie duration = ', int(m), ' minutes ', '{:.2f}'.format(s), ' seconds')"
   ]
  },
  {
   "cell_type": "markdown",
   "id": "48158a62",
   "metadata": {},
   "source": [
    "## make base sound"
   ]
  },
  {
   "cell_type": "code",
   "execution_count": 11,
   "id": "b2a46985",
   "metadata": {},
   "outputs": [
    {
     "data": {
      "text/plain": [
       "<_io.BufferedRandom name='original_sound.mp3'>"
      ]
     },
     "execution_count": 11,
     "metadata": {},
     "output_type": "execute_result"
    }
   ],
   "source": [
    "base_sound = AudioSegment.from_file(music_path + '/' + music_name + '.mp3', format = \"mp3\")     # load music\n",
    "length_seconds = base_sound.duration_seconds                                                # check length\n",
    "base_sound.export(\"original_sound.mp3\", format = \"mp3\")                                     # save as base_sound"
   ]
  },
  {
   "cell_type": "code",
   "execution_count": 12,
   "id": "108364a3",
   "metadata": {},
   "outputs": [
    {
     "data": {
      "text/plain": [
       "<_io.BufferedRandom name='sound_data_to_add_movie.mp3'>"
      ]
     },
     "execution_count": 12,
     "metadata": {},
     "output_type": "execute_result"
    }
   ],
   "source": [
    "# adjust duration of sound\n",
    "\n",
    "sound_for_movie_duration = base_sound[:(movie_length) * 1000]                   # add 3 seconds\n",
    "\n",
    "start = (movie_length) * 1000\n",
    "\n",
    "for x in range(0, 30):    \n",
    "    end   = start + (x * 10)\n",
    "    bd_multiplier = 1 - (x / 30)\n",
    "    delta = ratio_to_db(bd_multiplier)\n",
    "    \n",
    "    fadeout_phase_sound = base_sound[start : end] + delta\n",
    "    sound_for_movie_duration = sound_for_movie_duration + fadeout_phase_sound\n",
    "    \n",
    "    start = end\n",
    "\n",
    "sound_for_movie_duration.export('sound_data_to_add_movie.mp3', format = 'mp3')"
   ]
  },
  {
   "cell_type": "markdown",
   "id": "ee31a66b",
   "metadata": {},
   "source": [
    "## add sound to movie\n",
    "add_audio_"
   ]
  },
  {
   "cell_type": "code",
   "execution_count": 13,
   "id": "fd60d4d8",
   "metadata": {},
   "outputs": [
    {
     "name": "stdout",
     "output_type": "stream",
     "text": [
      "input video name with music:  miku_Deforum_add_audio_001\n"
     ]
    }
   ],
   "source": [
    "video_name_w_music = input('input video name with music:  ')"
   ]
  },
  {
   "cell_type": "code",
   "execution_count": 14,
   "id": "7f1a0ede",
   "metadata": {},
   "outputs": [
    {
     "name": "stdout",
     "output_type": "stream",
     "text": [
      "<class 'str'>\n"
     ]
    },
    {
     "data": {
      "text/plain": [
       "'miku_Deforum_add_audio_001'"
      ]
     },
     "execution_count": 14,
     "metadata": {},
     "output_type": "execute_result"
    }
   ],
   "source": [
    "print(type(video_name_w_music))\n",
    "video_name_w_music"
   ]
  },
  {
   "cell_type": "code",
   "execution_count": 15,
   "id": "8683840a",
   "metadata": {},
   "outputs": [],
   "source": [
    "output_file_name = video_name_w_music + '.mp4'\n",
    "\n",
    "audio_path = 'sound_data_to_add_movie.mp3'\n",
    "image_path = video_name + '.mp4'"
   ]
  },
  {
   "cell_type": "code",
   "execution_count": 16,
   "id": "031cb40a",
   "metadata": {},
   "outputs": [
    {
     "name": "stdout",
     "output_type": "stream",
     "text": [
      "Moviepy - Building video miku_Deforum_add_audio_001.mp4.\n",
      "Moviepy - Writing video miku_Deforum_add_audio_001.mp4\n",
      "\n"
     ]
    },
    {
     "name": "stderr",
     "output_type": "stream",
     "text": [
      "                                                                                                                       \r"
     ]
    },
    {
     "name": "stdout",
     "output_type": "stream",
     "text": [
      "Moviepy - Done !\n",
      "Moviepy - video ready miku_Deforum_add_audio_001.mp4\n"
     ]
    }
   ],
   "source": [
    "import moviepy.editor as mp\n",
    "\n",
    "clip = mp.VideoFileClip(image_path).subclip()\n",
    "clip.write_videofile(output_file_name, audio = audio_path)"
   ]
  },
  {
   "cell_type": "code",
   "execution_count": null,
   "id": "af095645",
   "metadata": {},
   "outputs": [],
   "source": []
  }
 ],
 "metadata": {
  "kernelspec": {
   "display_name": "Python 3 (ipykernel)",
   "language": "python",
   "name": "python3"
  },
  "language_info": {
   "codemirror_mode": {
    "name": "ipython",
    "version": 3
   },
   "file_extension": ".py",
   "mimetype": "text/x-python",
   "name": "python",
   "nbconvert_exporter": "python",
   "pygments_lexer": "ipython3",
   "version": "3.10.9"
  }
 },
 "nbformat": 4,
 "nbformat_minor": 5
}
