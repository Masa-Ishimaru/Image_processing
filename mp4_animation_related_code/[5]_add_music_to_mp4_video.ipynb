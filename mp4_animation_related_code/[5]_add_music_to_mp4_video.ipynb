{
 "cells": [
  {
   "cell_type": "markdown",
   "id": "95813d31",
   "metadata": {},
   "source": [
    "## add music to mp4 movie files"
   ]
  },
  {
   "cell_type": "markdown",
   "id": "e496f5f6",
   "metadata": {},
   "source": [
    "Reference:<br>\n",
    "https://qiita.com/nyancook/items/786cffd0b07bad8b4444"
   ]
  },
  {
   "cell_type": "code",
   "execution_count": 1,
   "id": "c793e6cd",
   "metadata": {},
   "outputs": [],
   "source": [
    "# !pip install moviepy\n",
    "#!pip install ffmpeg-python"
   ]
  },
  {
   "cell_type": "code",
   "execution_count": 2,
   "id": "9b777595",
   "metadata": {},
   "outputs": [],
   "source": [
    "import os\n",
    "import glob\n",
    "from moviepy.editor import *\n",
    "import pydub\n",
    "from pydub import AudioSegment\n",
    "import ffmpeg\n",
    "from pydub.utils import db_to_float, ratio_to_db"
   ]
  },
  {
   "cell_type": "markdown",
   "id": "6657f245",
   "metadata": {},
   "source": [
    "## convert music from m4a to mp3 format in the same folder"
   ]
  },
  {
   "cell_type": "code",
   "execution_count": 3,
   "id": "da150d32",
   "metadata": {},
   "outputs": [
    {
     "data": {
      "text/plain": [
       "(None, None)"
      ]
     },
     "execution_count": 3,
     "metadata": {},
     "output_type": "execute_result"
    }
   ],
   "source": [
    "path = \"music_dir/04 ファインダー.m4a\"\n",
    "to = 'mp3'\n",
    "s = ffmpeg.input(path)\n",
    "s = ffmpeg.output(s, f\"{path.split('.')[0]}.{to}\")\n",
    "ffmpeg.run(s)"
   ]
  },
  {
   "cell_type": "markdown",
   "id": "30a84aed",
   "metadata": {},
   "source": [
    "## get mp4 movie duration info"
   ]
  },
  {
   "cell_type": "code",
   "execution_count": 4,
   "id": "ecb76f55",
   "metadata": {},
   "outputs": [
    {
     "name": "stdout",
     "output_type": "stream",
     "text": [
      "duration of mp4 movie =   271.4  sec\n"
     ]
    }
   ],
   "source": [
    "movie_info = ffmpeg.probe('movie_out_c_016.mp4')\n",
    "movie_length = float(movie_info['format']['duration'])\n",
    "print(\"duration of mp4 movie =  \", movie_length, ' sec')"
   ]
  },
  {
   "cell_type": "markdown",
   "id": "48158a62",
   "metadata": {},
   "source": [
    "## make base sound"
   ]
  },
  {
   "cell_type": "code",
   "execution_count": 5,
   "id": "b2a46985",
   "metadata": {},
   "outputs": [
    {
     "data": {
      "text/plain": [
       "<_io.BufferedRandom name='original_sound.mp3'>"
      ]
     },
     "execution_count": 5,
     "metadata": {},
     "output_type": "execute_result"
    }
   ],
   "source": [
    "base_sound = AudioSegment.from_file('music_dir/04 ファインダー.mp3', format = \"mp3\")     # load music\n",
    "length_seconds = base_sound.duration_seconds                                             # check length\n",
    "base_sound.export(\"original_sound.mp3\", format = \"mp3\")                                            # save as base_sound"
   ]
  },
  {
   "cell_type": "code",
   "execution_count": 6,
   "id": "108364a3",
   "metadata": {},
   "outputs": [
    {
     "data": {
      "text/plain": [
       "<_io.BufferedRandom name='sound_data_to_add_movie.mp3'>"
      ]
     },
     "execution_count": 6,
     "metadata": {},
     "output_type": "execute_result"
    }
   ],
   "source": [
    "# adjust duration of sound\n",
    "\n",
    "sound_for_movie_duration = base_sound[:(movie_length) * 1000]                   # add 3 seconds\n",
    "\n",
    "start = (movie_length) * 1000\n",
    "\n",
    "for x in range(0, 30):    \n",
    "    end   = start + (x * 10)\n",
    "    bd_multiplier = 1 - (x / 30)\n",
    "    delta = ratio_to_db(bd_multiplier)\n",
    "    \n",
    "    fadeout_phase_sound = base_sound[start : end] + delta\n",
    "    sound_for_movie_duration = sound_for_movie_duration + fadeout_phase_sound\n",
    "    \n",
    "    start = end\n",
    "\n",
    "sound_for_movie_duration.export('sound_data_to_add_movie.mp3', format = 'mp3')"
   ]
  },
  {
   "cell_type": "markdown",
   "id": "ee31a66b",
   "metadata": {},
   "source": [
    "## add sound to movie"
   ]
  },
  {
   "cell_type": "code",
   "execution_count": 9,
   "id": "8683840a",
   "metadata": {},
   "outputs": [],
   "source": [
    "output_file_name = 'add_audio_016.mp4'\n",
    "\n",
    "audio_path = 'sound_data_to_add_movie.mp3'\n",
    "image_path = 'movie_out_c_016.mp4'"
   ]
  },
  {
   "cell_type": "code",
   "execution_count": null,
   "id": "031cb40a",
   "metadata": {},
   "outputs": [
    {
     "name": "stdout",
     "output_type": "stream",
     "text": [
      "Moviepy - Building video add_audio_016.mp4.\n",
      "Moviepy - Writing video add_audio_016.mp4\n",
      "\n"
     ]
    },
    {
     "name": "stderr",
     "output_type": "stream",
     "text": [
      "t:  91%|███████████████████████████████████████████████████████████▍     | 2481/2714 [00:27<00:02, 87.48it/s, now=None]"
     ]
    }
   ],
   "source": [
    "import moviepy.editor as mp\n",
    "\n",
    "clip = mp.VideoFileClip(image_path).subclip()\n",
    "clip.write_videofile(output_file_name, audio = audio_path)"
   ]
  },
  {
   "cell_type": "code",
   "execution_count": null,
   "id": "af095645",
   "metadata": {},
   "outputs": [],
   "source": []
  }
 ],
 "metadata": {
  "kernelspec": {
   "display_name": "Python 3 (ipykernel)",
   "language": "python",
   "name": "python3"
  },
  "language_info": {
   "codemirror_mode": {
    "name": "ipython",
    "version": 3
   },
   "file_extension": ".py",
   "mimetype": "text/x-python",
   "name": "python",
   "nbconvert_exporter": "python",
   "pygments_lexer": "ipython3",
   "version": "3.10.9"
  }
 },
 "nbformat": 4,
 "nbformat_minor": 5
}
