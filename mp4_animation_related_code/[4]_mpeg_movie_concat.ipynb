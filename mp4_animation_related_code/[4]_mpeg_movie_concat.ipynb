{
 "cells": [
  {
   "cell_type": "markdown",
   "id": "beb7643c",
   "metadata": {},
   "source": [
    "## concat mp4 movies"
   ]
  },
  {
   "cell_type": "code",
   "execution_count": 1,
   "id": "9b777595",
   "metadata": {},
   "outputs": [],
   "source": [
    "import cv2\n",
    "import glob"
   ]
  },
  {
   "cell_type": "code",
   "execution_count": 2,
   "id": "8683840a",
   "metadata": {},
   "outputs": [],
   "source": [
    "def comb_movie(movie_files, out_path):\n",
    "\n",
    "    fourcc = cv2.VideoWriter_fourcc('m','p','4','v')               # movie format definition\n",
    "\n",
    "    movie = cv2.VideoCapture(movie_files[0])                       # import movies\n",
    "    fps = movie.get(cv2.CAP_PROP_FPS)\n",
    "    height = movie.get(cv2.CAP_PROP_FRAME_HEIGHT)\n",
    "    width = movie.get(cv2.CAP_PROP_FRAME_WIDTH)\n",
    "\n",
    "    out = cv2.VideoWriter(out_path, int(fourcc), fps, (int(width), int(height)))     # open path to write out\n",
    "\n",
    "    for movies in (movie_files):\n",
    "        print(movies)\n",
    "        movie = cv2.VideoCapture(movies)         # read movies through path\n",
    "\n",
    "        if movie.isOpened() == True:            # check if operation is good\n",
    "            ret, frame = movie.read()            # read(): read 1 frame from captured image\n",
    "        else:\n",
    "            ret = False\n",
    "\n",
    "        while ret:\n",
    "            out.write(frame)                     # write out the frame read\n",
    "            ret, frame = movie.read()            # read next frame"
   ]
  },
  {
   "cell_type": "markdown",
   "id": "210ff4ca",
   "metadata": {},
   "source": [
    "## ! put mp4 movies to concat in the folder 'movie_dir'"
   ]
  },
  {
   "cell_type": "code",
   "execution_count": 3,
   "id": "6a6eb034",
   "metadata": {},
   "outputs": [
    {
     "name": "stdout",
     "output_type": "stream",
     "text": [
      "['./movie_dir\\\\movie_out_c_010.mp4', './movie_dir\\\\movie_out_c_011.mp4', './movie_dir\\\\movie_out_c_012.mp4']\n"
     ]
    }
   ],
   "source": [
    "# read movie files\n",
    "\n",
    "files = sorted(glob.glob(\"./movie_dir/*.mp4\"))\n",
    "print(files)"
   ]
  },
  {
   "cell_type": "markdown",
   "id": "6647f6ab",
   "metadata": {},
   "source": [
    "## example of movie name\n",
    "movie_out_c_<br>"
   ]
  },
  {
   "cell_type": "code",
   "execution_count": 4,
   "id": "13676034",
   "metadata": {},
   "outputs": [
    {
     "name": "stdout",
     "output_type": "stream",
     "text": [
      "input video name to export as mpeg file :  movie_out_c_016\n"
     ]
    }
   ],
   "source": [
    "# input video name to export\n",
    "\n",
    "output_name = input('input video name to export as mpeg file :  ') "
   ]
  },
  {
   "cell_type": "code",
   "execution_count": 5,
   "id": "9045ad9e",
   "metadata": {},
   "outputs": [
    {
     "name": "stdout",
     "output_type": "stream",
     "text": [
      "./movie_dir\\movie_out_c_010.mp4\n",
      "./movie_dir\\movie_out_c_011.mp4\n",
      "./movie_dir\\movie_out_c_012.mp4\n"
     ]
    }
   ],
   "source": [
    "file_name = output_name + '.mp4'\n",
    "\n",
    "comb_movie(files, file_name)"
   ]
  },
  {
   "cell_type": "code",
   "execution_count": null,
   "id": "0d03fedd",
   "metadata": {},
   "outputs": [],
   "source": []
  }
 ],
 "metadata": {
  "kernelspec": {
   "display_name": "Python 3 (ipykernel)",
   "language": "python",
   "name": "python3"
  },
  "language_info": {
   "codemirror_mode": {
    "name": "ipython",
    "version": 3
   },
   "file_extension": ".py",
   "mimetype": "text/x-python",
   "name": "python",
   "nbconvert_exporter": "python",
   "pygments_lexer": "ipython3",
   "version": "3.10.9"
  }
 },
 "nbformat": 4,
 "nbformat_minor": 5
}
