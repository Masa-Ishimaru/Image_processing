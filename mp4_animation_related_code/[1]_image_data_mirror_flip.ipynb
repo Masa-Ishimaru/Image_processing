{
 "cells": [
  {
   "cell_type": "code",
   "execution_count": 1,
   "id": "9fb869bc",
   "metadata": {},
   "outputs": [],
   "source": [
    "import os\n",
    "from PIL import Image, ImageOps"
   ]
  },
  {
   "cell_type": "code",
   "execution_count": 3,
   "id": "9fef86aa",
   "metadata": {},
   "outputs": [],
   "source": [
    "# make input image path\n",
    "\n",
    "os.makedirs('+image_input_mirror', exist_ok=True)\n",
    "os.makedirs('+image_output_mirror', exist_ok=True)"
   ]
  },
  {
   "cell_type": "markdown",
   "id": "0fbd6f13",
   "metadata": {},
   "source": [
    "## put images to make mirror flip in the '+image_input_mirror' folder"
   ]
  },
  {
   "cell_type": "code",
   "execution_count": 4,
   "id": "9c8d7179",
   "metadata": {
    "scrolled": false
   },
   "outputs": [],
   "source": [
    "i = 0\n",
    "\n",
    "current_dir = []\n",
    "sub_dirs    = []\n",
    "file_names  = []\n",
    "\n",
    "for curDir, dirs, files in os.walk(\"+image_input_mirror\"):\n",
    "    current_dir.append(curDir)\n",
    "    sub_dirs.append(dirs)\n",
    "    file_names.append(files)\n",
    "\n",
    "# print(current_dir)\n",
    "# print(sub_dirs)\n",
    "# print(file_names)"
   ]
  },
  {
   "cell_type": "code",
   "execution_count": 5,
   "id": "8225b5f6",
   "metadata": {},
   "outputs": [
    {
     "name": "stdout",
     "output_type": "stream",
     "text": [
      "1\n"
     ]
    },
    {
     "data": {
      "text/plain": [
       "['+image_input_mirror']"
      ]
     },
     "execution_count": 5,
     "metadata": {},
     "output_type": "execute_result"
    }
   ],
   "source": [
    "target_dirs = current_dir\n",
    "print(len(target_dirs))\n",
    "target_dirs"
   ]
  },
  {
   "cell_type": "code",
   "execution_count": 6,
   "id": "d792be5c",
   "metadata": {},
   "outputs": [
    {
     "data": {
      "text/plain": [
       "['20240313165432_000000000.png']"
      ]
     },
     "execution_count": 6,
     "metadata": {},
     "output_type": "execute_result"
    }
   ],
   "source": [
    "file_names[0][:5]"
   ]
  },
  {
   "cell_type": "code",
   "execution_count": 7,
   "id": "d57595f7",
   "metadata": {},
   "outputs": [
    {
     "data": {
      "text/plain": [
       "1"
      ]
     },
     "execution_count": 7,
     "metadata": {},
     "output_type": "execute_result"
    }
   ],
   "source": [
    "len(file_names[0])"
   ]
  },
  {
   "cell_type": "code",
   "execution_count": 8,
   "id": "f1e69c01",
   "metadata": {},
   "outputs": [],
   "source": [
    "x = 0\n",
    "\n",
    "for file_num in range(len(file_names[0])):\n",
    "    str_x = str(x).zfill(4)\n",
    "    im = Image.open(target_dirs[0] + '/' + str(file_names[0][file_num]))\n",
    "    im_mirror = ImageOps.mirror(im)\n",
    "    im_mirror.save('+image_output_mirror/' + str_x + str(file_names[0][file_num]))\n",
    "\n",
    "    x += 1"
   ]
  },
  {
   "cell_type": "code",
   "execution_count": null,
   "id": "a5971aad",
   "metadata": {},
   "outputs": [],
   "source": []
  },
  {
   "cell_type": "code",
   "execution_count": null,
   "id": "f9d94356",
   "metadata": {},
   "outputs": [],
   "source": []
  }
 ],
 "metadata": {
  "kernelspec": {
   "display_name": "Python 3 (ipykernel)",
   "language": "python",
   "name": "python3"
  },
  "language_info": {
   "codemirror_mode": {
    "name": "ipython",
    "version": 3
   },
   "file_extension": ".py",
   "mimetype": "text/x-python",
   "name": "python",
   "nbconvert_exporter": "python",
   "pygments_lexer": "ipython3",
   "version": "3.10.9"
  }
 },
 "nbformat": 4,
 "nbformat_minor": 5
}
