{
 "cells": [
  {
   "cell_type": "code",
   "execution_count": null,
   "id": "99e847fd",
   "metadata": {},
   "outputs": [],
   "source": [
    "import matplotlib.pyplot as plt\n",
    "import cv2\n",
    "import glob\n",
    "import os\n",
    "import shutil\n",
    "from cv2 import dnn_superres\n",
    "import ipywidgets as widgets\n",
    "\n",
    "import random\n",
    "from IPython.display import clear_output"
   ]
  },
  {
   "cell_type": "markdown",
   "id": "57e6f351",
   "metadata": {},
   "source": [
    "## see the image files"
   ]
  },
  {
   "cell_type": "code",
   "execution_count": null,
   "id": "797c74a6",
   "metadata": {},
   "outputs": [],
   "source": [
    "dir_path = 'original2resize'\n",
    "\n",
    "files = os.listdir(dir_path)\n",
    "files"
   ]
  },
  {
   "cell_type": "code",
   "execution_count": null,
   "id": "c8664565",
   "metadata": {},
   "outputs": [],
   "source": [
    "# count the original image number\n",
    "\n",
    "num_files = len(files)\n",
    "num_files"
   ]
  },
  {
   "cell_type": "code",
   "execution_count": null,
   "id": "c4073d32",
   "metadata": {},
   "outputs": [],
   "source": [
    "# make list of new file names\n",
    "\n",
    "file_name_list = []\n",
    "for i in range(num_files):\n",
    "    name_of_file = str(i).zfill(4)\n",
    "    file_name_list.append(name_of_file)\n",
    "    \n",
    "print(*file_name_list)"
   ]
  },
  {
   "cell_type": "markdown",
   "id": "c08ad2f1",
   "metadata": {},
   "source": [
    "## first image check"
   ]
  },
  {
   "cell_type": "code",
   "execution_count": null,
   "id": "644b512b",
   "metadata": {},
   "outputs": [],
   "source": [
    "# load image\n",
    "\n",
    "img_test = cv2.imread(dir_path + '/' + files[0])\n",
    "img      = cv2.cvtColor(img_test, cv2.COLOR_BGR2RGB)\n",
    "plt.imshow(img)\n",
    "plt.show()"
   ]
  },
  {
   "cell_type": "code",
   "execution_count": null,
   "id": "d008e21f",
   "metadata": {},
   "outputs": [],
   "source": [
    "# get image size\n",
    "\n",
    "height_o, width_o, channels = img.shape[:3]\n",
    "print(width_o, height_o)"
   ]
  },
  {
   "cell_type": "code",
   "execution_count": null,
   "id": "97d87a3e",
   "metadata": {},
   "outputs": [],
   "source": [
    "# resize image\n",
    "\n",
    "img_o = cv2.imread(dir_path + '/' + files[0])\n",
    "resized_img  = cv2.resize(img_o, (800, 1200), interpolation = cv2.INTER_AREA)\n",
    "img_resize   = cv2.cvtColor(resized_img, cv2.COLOR_BGR2RGB)\n",
    "plt.imshow(img_resize)\n",
    "plt.show()"
   ]
  },
  {
   "cell_type": "code",
   "execution_count": null,
   "id": "fb4a28fc",
   "metadata": {},
   "outputs": [],
   "source": [
    "# make directory for images made\n",
    "\n",
    "os.makedirs('images_800_1200', exist_ok=True)"
   ]
  },
  {
   "cell_type": "markdown",
   "id": "6259335e",
   "metadata": {},
   "source": [
    "## save resized images"
   ]
  },
  {
   "cell_type": "code",
   "execution_count": null,
   "id": "5c88fd62",
   "metadata": {},
   "outputs": [],
   "source": [
    "for i in range(len(files)):\n",
    "\n",
    "    img_o = cv2.imread(dir_path + '/' + files[i])\n",
    "    resized_img  = cv2.resize(img_o, (800, 1200), interpolation = cv2.INTER_AREA)\n",
    "    \n",
    "    cv2.imwrite('images_800_1200/' + file_name_list[i] + '_800_1200.png' , resized_img)"
   ]
  },
  {
   "cell_type": "code",
   "execution_count": null,
   "id": "f35f7b48",
   "metadata": {},
   "outputs": [],
   "source": []
  },
  {
   "cell_type": "code",
   "execution_count": null,
   "id": "1f9f5707",
   "metadata": {},
   "outputs": [],
   "source": []
  }
 ],
 "metadata": {
  "kernelspec": {
   "display_name": "Python 3 (ipykernel)",
   "language": "python",
   "name": "python3"
  },
  "language_info": {
   "codemirror_mode": {
    "name": "ipython",
    "version": 3
   },
   "file_extension": ".py",
   "mimetype": "text/x-python",
   "name": "python",
   "nbconvert_exporter": "python",
   "pygments_lexer": "ipython3",
   "version": "3.10.9"
  }
 },
 "nbformat": 4,
 "nbformat_minor": 5
}
