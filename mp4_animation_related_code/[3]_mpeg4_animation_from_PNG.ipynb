{
 "cells": [
  {
   "cell_type": "code",
   "execution_count": 1,
   "id": "53fff860",
   "metadata": {},
   "outputs": [],
   "source": [
    "import glob\n",
    "import cv2"
   ]
  },
  {
   "cell_type": "markdown",
   "id": "e9776f56",
   "metadata": {},
   "source": [
    "## example of folder name\n",
    "input_images_for_mp4_animation<br>\n",
    "image_data_xafter_convert_names"
   ]
  },
  {
   "cell_type": "code",
   "execution_count": 2,
   "id": "d11b14fb",
   "metadata": {},
   "outputs": [
    {
     "name": "stdout",
     "output_type": "stream",
     "text": [
      "input folder name to import PNG images :  input_images_for_mp4_animation\n"
     ]
    }
   ],
   "source": [
    "# input folder name to import PNG images\n",
    "\n",
    "input_path = input('input folder name to import PNG images :  ')"
   ]
  },
  {
   "cell_type": "code",
   "execution_count": 3,
   "id": "d66428fa",
   "metadata": {},
   "outputs": [
    {
     "name": "stdout",
     "output_type": "stream",
     "text": [
      "236\n"
     ]
    }
   ],
   "source": [
    "# Read PNG files in the target directory and their list\n",
    "\n",
    "img_array = []\n",
    "\n",
    "#for filename in sorted(glob.glob(input_path + \"/*.png\")):\n",
    "for filename in glob.glob(input_path + \"/*.png\"):\n",
    "    img = cv2.imread(filename)\n",
    "    height, width, layers = img.shape\n",
    "    size = (width, height)\n",
    "    img_array.append(img)\n",
    "\n",
    "print(len(img_array))"
   ]
  },
  {
   "cell_type": "markdown",
   "id": "8e3e573e",
   "metadata": {},
   "source": [
    "## example of movie name\n",
    "movie_out_c_<br>"
   ]
  },
  {
   "cell_type": "code",
   "execution_count": 5,
   "id": "abdd5c6d",
   "metadata": {},
   "outputs": [
    {
     "name": "stdout",
     "output_type": "stream",
     "text": [
      "input video name to export as mpeg file :  movie_out_c_015\n"
     ]
    }
   ],
   "source": [
    "# input video name to export\n",
    "\n",
    "output_name = input('input video name to export as mpeg file :  ') "
   ]
  },
  {
   "cell_type": "code",
   "execution_count": 6,
   "id": "fb235a35",
   "metadata": {},
   "outputs": [],
   "source": [
    "# Change image size and save files in JPEG format\n",
    "\n",
    "name = output_name + '.mp4'\n",
    "out = cv2.VideoWriter(name, cv2.VideoWriter_fourcc(*'mp4v'), 10, size)\n",
    "\n",
    "for i in range(len(img_array)):\n",
    "    out.write(img_array[i])\n",
    "out.release()"
   ]
  },
  {
   "cell_type": "code",
   "execution_count": null,
   "id": "6a7a8fd7",
   "metadata": {},
   "outputs": [],
   "source": []
  }
 ],
 "metadata": {
  "kernelspec": {
   "display_name": "Python 3 (ipykernel)",
   "language": "python",
   "name": "python3"
  },
  "language_info": {
   "codemirror_mode": {
    "name": "ipython",
    "version": 3
   },
   "file_extension": ".py",
   "mimetype": "text/x-python",
   "name": "python",
   "nbconvert_exporter": "python",
   "pygments_lexer": "ipython3",
   "version": "3.10.9"
  }
 },
 "nbformat": 4,
 "nbformat_minor": 5
}
